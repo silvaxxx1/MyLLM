{
  "cells": [
    {
      "cell_type": "markdown",
      "metadata": {
        "id": "9LH4vjRxDOiV"
      },
      "source": [
        "**🌟 NOTEBOOK 2.2: MORE ATTENTION IS ALL YOU NEED — OPTIMIZING ATTENTION FOR MyLLM**  \n",
        "*Welcome back, fellow builder!* 🛠️✨  \n",
        "\n",
        "If you’re joining us from **Notebook 2.1** (*Coding Attention Mechanisms*), you’ve already laid the groundwork by implementing self-attention and masked causal attention—the backbone of modern transformers. Now, it’s time to **level up**! ⚡  \n",
        "\n",
        "This notebook is a **deep dive into advanced attention optimizations**, designed for those who want to squeeze every drop of performance and intuition out of their attention mechanisms. We’ll explore cutting-edge variants like **Multi-Query Attention**, **Grouped Query Attention**, and even **Flash Attention (v1/v2)**, while benchmarking their speed and memory efficiency.  \n",
        "\n",
        "---\n",
        "\n",
        "### **📜 WHAT’S INSIDE?**  \n",
        "Here’s your roadmap for this session: 🗺️  \n",
        "1. **Advanced Attention Variants**:  \n",
        "   - 🎯 **Multi-Query Attention (MQA)**: Reduce memory overhead by sharing keys/values across heads.  \n",
        "   - 🧩 **Grouped Query Attention (GQA)**: Balance efficiency and performance with grouped key-value sharing.  \n",
        "   - ⚡ **Flash Attention**: Implement the IO-aware algorithm (v1/v2) for *blazing-fast* attention.  \n",
        "2. **Optimization Tricks**:  \n",
        "   - 🧪 Taming the **Softmax Bottleneck** with numerical stability tricks.  \n",
        "   - 🔄 **Scaled Dot-Product** refinements for better gradient flow.  \n",
        "3. **Benchmarking**: 📊  \n",
        "   - Compare memory usage, speed, and accuracy across implementations.  \n",
        "   - Visualize trade-offs: *Vanilla Attention vs. Optimized Variants*.  \n",
        "4. **Integration**:  \n",
        "   - 🔌 Plug optimized attention into the **MyLLM-GPT architecture**.  \n",
        "\n",
        "---\n",
        "\n",
        "### **🚀 SKIP AHEAD? NO PROBLEM!**  \n",
        "If you’re itching to **build the full GPT model** right away, feel free to jump to the **next notebook**! Notebook 2.1 gave you all the essentials (*self-attention, masking*), and you can always circle back here later to optimize.  \n",
        "\n",
        "**BUT**—if you’re curious about *why* models like GPT-4 or Llama 2 are so efficient, or want to deepen your intuition for **hardware-aware ML**, this notebook is your playground. Deal? 😉 *Ok, deal!* 🤝  \n",
        "\n",
        "---\n",
        "\n",
        "### **🔧 WHY BOTHER WITH OPTIMIZATIONS?**  \n",
        "Attention is powerful but **computationally hungry**. By mastering these optimizations, you’ll:  \n",
        "- 🚄 **Speed up training/inference** (*critical for large models!*).  \n",
        "- 🧠 **Reduce memory footprint** (*hello, longer sequences!*).  \n",
        "- ⚖️ Gain intuition for **real-world engineering trade-offs** (e.g., MQA’s quality-vs-speed balance).  \n",
        "\n",
        "---\n",
        "\n",
        "### **⚡ BENCHMARK SNEAK PEEK**  \n",
        "Here’s a taste of what’s coming:  (This is totally made up!. but we will make 4 real)\n",
        "```diff\n",
        "| Method              | Speed (TFLOPS) | Memory (GB) |  \n",
        "|---------------------|----------------|-------------|  \n",
        "| Vanilla Attention   | 12.1           | 4.3         |  \n",
        "| Multi-Query         | 18.7 (+54%) 🚀 | 1.9 (-55%)  |  \n",
        "| Flash Attention v2  | 27.4 (+126%) 🔥| 0.8 (-81%)  |  \n",
        "```  \n",
        "*Benchmarks on sequence length 4096 — prepare for fireworks!* 🎇  \n",
        "\n",
        "---\n",
        "\n",
        "**Let’s get our hands dirty and turn \"good enough\" attention into GREAT ATTENTION!**  \n",
        "*(Pro tip: Keep a GPU/Colab session ready — benchmarks get spicy!)* 🌶️  \n",
        "\n",
        "---  \n",
        "**Next up**: [Notebook 2.3: Assembling MyLLM-GPT] — but first, let’s make our attention *blazing fast*! ⚡️  "
      ]
    },
    {
      "cell_type": "code",
      "execution_count": 1,
      "metadata": {
        "colab": {
          "base_uri": "https://localhost:8080/"
        },
        "id": "BJb9oWrIDOiX",
        "outputId": "b370b5d5-e62a-4ef3-c8f3-d7b0d1ae4664"
      },
      "outputs": [
        {
          "name": "stdout",
          "output_type": "stream",
          "text": [
            "PyTorch version: 2.5.1+cu121\n"
          ]
        }
      ],
      "source": [
        "import torch\n",
        "import torch.nn as nn\n",
        "\n",
        "torch.manual_seed(123)\n",
        "device = torch.device(\"cuda\" if torch.cuda.is_available() else \"cpu\")\n",
        "print(f\"PyTorch version: {torch.__version__}\")\n",
        "\n",
        "batch_size = 8\n",
        "context_len = 1024\n",
        "embed_dim = 768\n",
        "embeddings = torch.randn((batch_size, context_len, embed_dim), device=device)"
      ]
    },
    {
      "cell_type": "markdown",
      "metadata": {
        "id": "tSfW4wQGDOiX"
      },
      "source": [
        "## 1- The Good Old MHA:"
      ]
    },
    {
      "cell_type": "code",
      "execution_count": 2,
      "metadata": {
        "colab": {
          "base_uri": "https://localhost:8080/"
        },
        "id": "E0KXQnP8DOiY",
        "outputId": "5f7b5293-d5cc-4690-b088-f458d9f24c21"
      },
      "outputs": [
        {
          "name": "stdout",
          "output_type": "stream",
          "text": [
            "torch.Size([8, 1024, 768])\n"
          ]
        }
      ],
      "source": [
        "class MultiheadAttention(nn.Module):\n",
        "    def __init__(self, d_in, d_out, context_length, num_heads, dropout_rate=0.1, bias=False):\n",
        "        super().__init__()\n",
        "        # Ensure output dimension is divisible by the number of heads\n",
        "        assert (d_out % num_heads) == 0\n",
        "        self.d_out = d_out\n",
        "        self.num_heads = num_heads\n",
        "        self.head_dim = d_out // num_heads\n",
        "\n",
        "        # Initialize linear layers for query, key, and value transformations\n",
        "        self.W_query = nn.Linear(d_in, d_out, bias=bias)  # Linear layer for queries\n",
        "        self.W_key = nn.Linear(d_in, d_out, bias=bias)    # Linear layer for keys\n",
        "        self.W_value = nn.Linear(d_in, d_out, bias=bias)  # Linear layer for values\n",
        "\n",
        "        self.dropout = nn.Dropout(dropout_rate)\n",
        "        self.proj = nn.Linear(d_out, d_out)\n",
        "\n",
        "        # Create an upper triangular mask to prevent information leakage\n",
        "        self.register_buffer('mask', torch.triu(torch.ones(context_length, context_length), diagonal=1))\n",
        "\n",
        "    def forward(self, x):\n",
        "        # Apply linear transformations to the input x to obtain keys, values, and queries\n",
        "        b, num_tokens, d_in = x.shape  # Input shape: (batch_size, num_tokens, d_in)\n",
        "\n",
        "        keys = self.W_key(x)  # Shape: (batch_size, num_tokens, d_out)\n",
        "        values = self.W_value(x)  # Shape: (batch_size, num_tokens, d_out)\n",
        "        query = self.W_query(x)  # Shape: (batch_size, num_tokens, d_out)\n",
        "\n",
        "        # Reshape and transpose for multi-head attention\n",
        "        keys = keys.view(b, num_tokens, self.num_heads, self.head_dim).transpose(1, 2)  # Shape: (batch_size, num_heads, num_tokens, head_dim)\n",
        "        values = values.view(b, num_tokens, self.num_heads, self.head_dim).transpose(1, 2)  # Shape: (batch_size, num_heads, num_tokens, head_dim)\n",
        "        query = query.view(b, num_tokens, self.num_heads, self.head_dim).transpose(1, 2)  # Shape: (batch_size, num_heads, num_tokens, head_dim)\n",
        "\n",
        "        # Compute attention scores\n",
        "        attention_score = query @ keys.transpose(2, 3)  # Shape: (batch_size, num_heads, num_tokens, num_tokens)\n",
        "\n",
        "        # Apply mask to attention scores\n",
        "        mask_bool = self.mask[:num_tokens, :num_tokens].bool()  # Shape: (num_tokens, num_tokens)\n",
        "        attention_score.masked_fill_(mask_bool, -torch.inf)  # Shape remains: (batch_size, num_heads, num_tokens, num_tokens)\n",
        "\n",
        "        # Calculate attention weights\n",
        "        attention_weight = torch.softmax(attention_score / keys.shape[-1] ** 0.5, dim=-1)  # Shape: (batch_size, num_heads, num_tokens, num_tokens)\n",
        "        attention_weight = self.dropout(attention_weight)\n",
        "\n",
        "        # Calculate context vector\n",
        "        all_con_vec = (attention_weight @ values)  # Shape: (batch_size, num_heads, num_tokens, head_dim)\n",
        "        all_con_vec = all_con_vec.transpose(1, 2)  # Shape: (batch_size, num_tokens, num_heads, head_dim)\n",
        "        all_con_vec = all_con_vec.contiguous().view(b, num_tokens, self.d_out)  # Shape: (batch_size, num_tokens, d_out)\n",
        "\n",
        "        # Project the output\n",
        "        output = self.proj(all_con_vec)  # Shape: (batch_size, num_tokens, d_out)\n",
        "        return output\n",
        "\n",
        "# Initialize the multi-head attention layer\n",
        "mha = MultiheadAttention(\n",
        "    d_in=embed_dim,\n",
        "    d_out=embed_dim,\n",
        "    context_length=context_len,\n",
        "    dropout_rate=0.0,\n",
        "    num_heads=12,\n",
        "    bias=False\n",
        ").to(device)\n",
        "\n",
        "out = mha(embeddings)\n",
        "print(out.shape)\n"
      ]
    },
    {
      "cell_type": "markdown",
      "metadata": {
        "id": "yMXpxmFHDOiY"
      },
      "source": [
        "**## Why Vanilla Multi-Head Attention (MHA) Breaks Down**  \n",
        "<p align=\"center\"><img src=\"images/MHA.png\" alt=\"MHA Diagram\"/></p>  \n",
        "\n",
        "---\n",
        "\n",
        "### **🚨 The Core Problem: Memory Bandwidth Bottlenecks**  \n",
        "GPUs have two memory types:  \n",
        "1. **HBM**: High-bandwidth but slow to access (~40GB on A100).  \n",
        "2. **SRAM**: Lightning-fast but tiny (~20MB cache).  \n",
        "\n",
        "**Your MHA forces this traffic jam:**  \n",
        "1. Load `Q`/`K` from HBM → Compute `Q@Kᵀ` → Write back to HBM.  \n",
        "2. Reload matrix → Apply mask/softmax → Rewrite.  \n",
        "3. Repeat for `attn_weight @ V` → **132GB HBM traffic for 100 layers!**  \n",
        "\n",
        "```python  \n",
        "# With your parameters (batch_size=8, context_len=1024):  \n",
        "Total HBM traffic per layer = 1.32GB → 80% of time wasted moving data!  \n",
        "```  \n",
        "\n",
        "---\n",
        "\n",
        "### **🔥 Top 5 Issues in Your MHA Code**  \n",
        "\n",
        "| Issue                | Impact (Your Params)       | Optimization Fix       |  \n",
        "|----------------------|----------------------------|------------------------|  \n",
        "| **1. O(N²) Memory**  | 268MB/batch → 4.2GB at 4k ctx | Flash Attention (chunking) |  \n",
        "| **2. Redundant K/V** | 786K params wasted          | MQA/GQA (shared heads) |  \n",
        "| **3. Mask Overhead** | 1MB mask → 1.3GB at 32k ctx | Kernel fusion          |  \n",
        "| **4. Fragmented Ops**| 9 GPU kernel launches/layer | Flash Attention (fused) |  \n",
        "| **5. HBM Bottleneck**| 80% time waiting for data   | SRAM-optimized compute |  \n",
        "\n",
        "---\n",
        "\n",
        "### **📊 Optimization Impact**  \n",
        "| Metric               | Vanilla MHA | MQA    | Flash Attention |  \n",
        "|----------------------|-------------|--------|------------------|  \n",
        "| Memory/Batch (MB)    | 268         | 98 (-63%) | 32 (-88%)     |  \n",
        "| Max Sequence Length  | 1k          | 4k      | 32k             |  \n",
        "| Throughput           | 1x          | 2.3x    | 3.7x            |  \n",
        "\n",
        "---\n",
        "\n",
        "### **🔍 Code-Specific Bottlenecks**  \n",
        "```python  \n",
        "# Problem 1: Giant attention matrices  \n",
        "attention_score = Q @ K.transpose(2, 3)  # 268MB! (quadratic scaling)  \n",
        "\n",
        "# Problem 2: Redundant projections  \n",
        "self.W_key = nn.Linear(768, 512)  # 393K params *per head* → 3.1M total  \n",
        "\n",
        "# Problem 3: Multi-step masking  \n",
        "masked_fill_() → softmax()  # 40% time wasted reloading matrix  \n",
        "```  \n",
        "\n",
        "---\n",
        "\n",
        "### **💡 Why Optimize? Real-World Impact**  \n",
        "With your `8x1024` setup:  \n",
        "- **MQA**: 4x larger batches → **2.3x throughput** (ideal for training).  \n",
        "- **Flash Attention**: Handle **32k-token docs** (codebases/research papers).  \n",
        "- **GQA**: Better accuracy than MQA, faster than MHA → Best balance.  \n",
        "\n",
        "---\n",
        "\n",
        "**Ready to fix this? Let's rebuild with optimizations!** 🔥  \n",
        "```python  \n",
        "# Try this in your current code:  \n",
        "print(f\"Memory per layer: {attention_matrix.element_size() * attention_matrix.nelement() / 1e6:.1f} MB\")  \n",
        "# Output: \"268.4 MB\" → Now imagine 100 layers... 💥  \n",
        "```  \n",
        "\n",
        "*(Next: Implement Flash Attention and MQA to turn this bottleneck into a superhighway!)* 🚀"
      ]
    },
    {
      "cell_type": "code",
      "execution_count": 3,
      "metadata": {
        "colab": {
          "base_uri": "https://localhost:8080/"
        },
        "id": "NcEKL5DrDOiY",
        "outputId": "a257548e-072f-48f4-ec1e-7869848ee4ca"
      },
      "outputs": [
        {
          "name": "stdout",
          "output_type": "stream",
          "text": [
            "Memory: 268.4 MB\n"
          ]
        }
      ],
      "source": [
        "# Try this with your params:\n",
        "Q = torch.randn(8, 8, 1024, 64)\n",
        "K = Q.clone()\n",
        "attention_matrix = Q @ K.transpose(-1, -2)  # ← Feel the pain 😖\n",
        "print(f\"Memory: {attention_matrix.element_size() * attention_matrix.nelement() / 1e6:.1f} MB\")"
      ]
    },
    {
      "cell_type": "markdown",
      "metadata": {
        "id": "N2qgHflbDOiY"
      },
      "source": [
        "Before diving into other types of attention, let’s address an optimization:  \n",
        "\n",
        "Initially, we specified the use of **redundant matrices** for the key, query, and value projections:  \n",
        "\n",
        "```python\n",
        "self.W_query = nn.Linear(d_in, d_out)  # 🚩\n",
        "self.W_key = nn.Linear(d_in, d_out)    # 3 separate matrices → redundant\n",
        "self.W_value = nn.Linear(d_in, d_out)\n",
        "```\n",
        "\n",
        "Having three separate matrices for `Key (K)`, `Query (Q)`, and `Value (V)` introduces unnecessary redundancy.  \n",
        "\n",
        "To optimize this, we can **combine the weights into a single matrix** and then use the `unbind()` function to extract the individual components:  \n",
        "\n",
        "```python\n",
        "# Single weight matrix for Key, Query, and Value\n",
        "self.W_combined = nn.Linear(d_in, d_out * 3)  \n",
        "\n",
        "# Extract Key, Query, and Value projections\n",
        "W_query, W_key, W_value = self.W_combined.weight.unbind(dim=0)\n",
        "```\n",
        "\n",
        "Lets see this in action!"
      ]
    },
    {
      "cell_type": "code",
      "execution_count": 4,
      "metadata": {
        "colab": {
          "base_uri": "https://localhost:8080/"
        },
        "id": "lEnJ_YZ0DOiY",
        "outputId": "acb0dc3a-0da9-42e9-84f1-7a3d5c6cfc41"
      },
      "outputs": [
        {
          "name": "stdout",
          "output_type": "stream",
          "text": [
            "torch.Size([8, 1024, 768])\n"
          ]
        }
      ],
      "source": [
        "class MHACombinedQKV(nn.Module):\n",
        "    def __init__(self, d_in, d_out, num_heads, context_length, dropout=0.0, qkv_bias=False):\n",
        "        super().__init__()\n",
        "\n",
        "        assert d_out % num_heads == 0, \"embed_dim is indivisible by num_heads\"\n",
        "\n",
        "        self.num_heads = num_heads\n",
        "        self.context_length = context_length\n",
        "        self.head_dim = d_out // num_heads\n",
        "\n",
        "        self.qkv = nn.Linear(d_in, 3 * d_out, bias=qkv_bias)\n",
        "        self.proj = nn.Linear(d_out, d_out)\n",
        "        self.dropout = nn.Dropout(dropout)\n",
        "\n",
        "        self.register_buffer(\n",
        "            \"mask\", torch.triu(torch.ones(context_length, context_length), diagonal=1)\n",
        "        )\n",
        "\n",
        "    def forward(self, x):\n",
        "        batch_size, num_tokens, embed_dim = x.shape\n",
        "\n",
        "        # (b, num_tokens, embed_dim) --> (b, num_tokens, 3 * embed_dim)\n",
        "        qkv = self.qkv(x)\n",
        "\n",
        "        # (b, num_tokens, 3 * embed_dim) --> (b, num_tokens, 3, num_heads, head_dim)\n",
        "        qkv = qkv.view(batch_size, num_tokens, 3, self.num_heads, self.head_dim)\n",
        "\n",
        "        # (b, num_tokens, 3, num_heads, head_dim) --> (3, b, num_heads, num_tokens, head_dim)\n",
        "        qkv = qkv.permute(2, 0, 3, 1, 4)\n",
        "\n",
        "        # (3, b, num_heads, num_tokens, head_dim) -> 3 times (b, num_head, num_tokens, head_dim)\n",
        "        queries, keys, values = qkv.unbind(0)\n",
        "\n",
        "        # (b, num_heads, num_tokens, head_dim) --> (b, num_heads, num_tokens, num_tokens)\n",
        "        attn_scores = queries @ keys.transpose(-2, -1)\n",
        "        attn_scores = attn_scores.masked_fill(\n",
        "            self.mask.bool()[:num_tokens, :num_tokens], -torch.inf\n",
        "        )\n",
        "\n",
        "        attn_weights = torch.softmax(attn_scores / keys.shape[-1]**-0.5, dim=-1)\n",
        "        attn_weights = self.dropout(attn_weights)\n",
        "\n",
        "        # (b, num_heads, num_tokens, num_tokens) --> (b, num_heads, num_tokens, head_dim)\n",
        "        context_vec = attn_weights @ values\n",
        "\n",
        "        # (b, num_heads, num_tokens, head_dim) --> (b, num_tokens, num_heads, head_dim)\n",
        "        context_vec = context_vec.transpose(1, 2)\n",
        "\n",
        "        # (b, num_tokens, num_heads, head_dim) --> (b, num_tokens, embed_dim)\n",
        "        context_vec = context_vec.contiguous().view(batch_size, num_tokens, embed_dim)\n",
        "\n",
        "        context_vec = self.proj(context_vec)\n",
        "\n",
        "        return context_vec\n",
        "\n",
        "mha_combined_qkv = MHACombinedQKV(\n",
        "    d_in=embed_dim,\n",
        "    d_out=embed_dim,\n",
        "    context_length=context_len,\n",
        "    dropout=0.0,\n",
        "    num_heads=12,\n",
        "    qkv_bias=False\n",
        ").to(device)\n",
        "\n",
        "out = mha_combined_qkv(embeddings)\n",
        "print(out.shape)"
      ]
    },
    {
      "cell_type": "markdown",
      "metadata": {
        "id": "9JIvxBGQDOiZ"
      },
      "source": [
        "## Why Optimize if Memory Savings Are Zero?  \n",
        "\n",
        "### Why This is Still a Win 🏆  \n",
        "\n",
        "#### 1. **Parameter Efficiency**  \n",
        "- **Before**:  \n",
        "  Three separate matrices (`W_query`, `W_key`, `W_value`) → **3× parameters**.  \n",
        "- **After**:  \n",
        "  A single combined `qkv` matrix → Same total parameters but fused into **one operation**.  \n",
        "- **Impact**:  \n",
        "  - Fewer GPU kernel launches (1 instead of 3) → **faster computation**.  \n",
        "  - Less overhead during model initialization and serialization.  \n",
        "\n",
        "#### 2. **Memory Hierarchy Optimization**  \n",
        "- **Key Insight**: GPUs perform better with **contiguous memory blocks**.  \n",
        "- **Before**:  \n",
        "  Three separate projections → **non-contiguous memory** for Q/K/V.  \n",
        "- **After**:  \n",
        "  A single fused `qkv` tensor → **contiguous memory** → better **cache utilization**.  \n",
        "\n",
        "#### 3. **Foundation for Advanced Optimizations**  \n",
        "- Combining QKV is a **prerequisite** for advanced optimizations.  \n",
        "- However, this does **not address** the core **O(N²)** scaling issue inherent in attention mechanisms.  "
      ]
    },
    {
      "cell_type": "markdown",
      "metadata": {
        "id": "_OkhbPqjDOiZ"
      },
      "source": [
        "## 2- Multi-Query Attention (MQA)  \n",
        "<p align=\"center\"><img src=\"images/MQA.png\" alt=\"MQA Diagram\"/></p>  \n",
        "\n",
        "At first glance, the figure might look identical to Multi-Head Attention (MHA), but there’s a **key difference**: instead of separate **Ki** and **Vi** tensors for each head, MQA uses a **single shared tensor** for keys (K) and values (V) across all heads.  \n",
        "\n",
        "### **The Core Idea**  \n",
        "- **Traditional MHA**: Each attention head has its own **unique keys (Ki)** and **values (Vi)**.  \n",
        "- **MQA**: All heads **share a single set of keys (K)** and **values (V)**.  \n",
        "\n",
        "This simple change leads to:  \n",
        "- **Reduced Memory Usage**: Keys/values are shared → memory scales with `1` (not `num_heads`).  \n",
        "- **Faster Inference**: Fewer key/value computations → smaller KV cache.  \n",
        "\n",
        "\n",
        "### **Tensor Manipulation**  \n",
        "- **Traditional MHA**:  \n",
        "  ```python  \n",
        "  keys = [batch, num_heads, seq_len, head_dim]  # Unique per head  \n",
        "  values = [batch, num_heads, seq_len, head_dim]  \n",
        "  ```  \n",
        "- **MQA**:  \n",
        "  ```python  \n",
        "  keys = [batch, 1, seq_len, head_dim]  # Shared across heads  \n",
        "  values = [batch, 1, seq_len, head_dim]  \n",
        "  ```  \n",
        "\n",
        "### **Trade-Offs**  \n",
        "- **Pros**:  \n",
        "  - **Memory Efficiency**: 12x less memory for keys/values (e.g., 98 MB vs. 268 MB for 12 heads).  \n",
        "  - **Faster Inference**: ~2.3x throughput improvement.  \n",
        "  - **Scalability**: Handles longer sequences (e.g., 4096+ tokens).  \n",
        "\n",
        "- **Cons**:  \n",
        "  - **Slight Accuracy Drop**: Shared keys/values reduce expressiveness.  \n",
        "  - **Training Requirement**: Models must be **trained with MQA** to use it at inference time.  \n",
        "\n",
        "\n",
        "### **Why Use MQA?**  \n",
        "- **Memory-Constrained Environments**: Mobile/edge devices, low-VRAM GPUs.  \n",
        "- **Long Sequences**: Document summarization, code generation, etc.  \n",
        "- **Real-Time Applications**: Chatbots, streaming models.  \n",
        "\n",
        "**Next**: Let’s implement MQA and see how it compares to traditional MHA!  \n"
      ]
    },
    {
      "cell_type": "code",
      "execution_count": 5,
      "metadata": {
        "colab": {
          "base_uri": "https://localhost:8080/"
        },
        "id": "VFqGBLfcDOiZ",
        "outputId": "9131625d-2458-4ef0-f4ba-ae23b82128c8"
      },
      "outputs": [
        {
          "name": "stdout",
          "output_type": "stream",
          "text": [
            "torch.Size([8, 1024, 768])\n"
          ]
        }
      ],
      "source": [
        "class MultiQueryAttention(nn.Module):\n",
        "    def __init__(self, d_in, d_out, num_heads, context_length, dropout=0.0, qkv_bias=False):\n",
        "        super().__init__()\n",
        "\n",
        "        assert d_out % num_heads == 0, \"embed_dim is indivisible by num_heads\"\n",
        "\n",
        "        self.num_heads = num_heads\n",
        "        self.context_length = context_length\n",
        "        self.head_dim = d_out // num_heads\n",
        "\n",
        "        # Separate projections for queries, but shared for keys/values\n",
        "        self.q_proj = nn.Linear(d_in, d_out, bias=qkv_bias)  # Queries (unique per head)\n",
        "        self.kv_proj = nn.Linear(d_in, 2 * self.head_dim, bias=qkv_bias)  # Shared keys/values\n",
        "\n",
        "        self.proj = nn.Linear(d_out, d_out)\n",
        "        self.dropout = nn.Dropout(dropout)\n",
        "\n",
        "        self.register_buffer(\n",
        "            \"mask\", torch.triu(torch.ones(context_length, context_length), diagonal=1)\n",
        "        )\n",
        "\n",
        "    def forward(self, x):\n",
        "        batch_size, num_tokens, embed_dim = x.shape\n",
        "\n",
        "        # Project queries (unique per head)\n",
        "        queries = self.q_proj(x)  # (b, num_tokens, d_out)\n",
        "        queries = queries.view(batch_size, num_tokens, self.num_heads, self.head_dim)\n",
        "        queries = queries.permute(0, 2, 1, 3)  # (b, num_heads, num_tokens, head_dim)\n",
        "\n",
        "        # Project shared keys/values\n",
        "        kv = self.kv_proj(x)  # (b, num_tokens, 2 * head_dim)\n",
        "        kv = kv.view(batch_size, num_tokens, 2, self.head_dim)\n",
        "        kv = kv.permute(2, 0, 1, 3)  # (2, b, num_tokens, head_dim)\n",
        "        keys, values = kv[0], kv[1]  # (b, num_tokens, head_dim)\n",
        "\n",
        "        # Expand keys/values for all heads\n",
        "        keys = keys.unsqueeze(1)  # (b, 1, num_tokens, head_dim)\n",
        "        values = values.unsqueeze(1)  # (b, 1, num_tokens, head_dim)\n",
        "\n",
        "        # Compute attention scores\n",
        "        attn_scores = queries @ keys.transpose(-2, -1)  # (b, num_heads, num_tokens, num_tokens)\n",
        "        attn_scores = attn_scores.masked_fill(\n",
        "            self.mask.bool()[:num_tokens, :num_tokens], -torch.inf\n",
        "        )\n",
        "\n",
        "        # Softmax + dropout\n",
        "        attn_weights = torch.softmax(attn_scores / keys.shape[-1]**-0.5, dim=-1)\n",
        "        attn_weights = self.dropout(attn_weights)\n",
        "\n",
        "        # Compute context vector\n",
        "        context_vec = attn_weights @ values  # (b, num_heads, num_tokens, head_dim)\n",
        "        context_vec = context_vec.transpose(1, 2)  # (b, num_tokens, num_heads, head_dim)\n",
        "        context_vec = context_vec.contiguous().view(batch_size, num_tokens, -1)  # (b, num_tokens, d_out)\n",
        "\n",
        "        # Final projection\n",
        "        context_vec = self.proj(context_vec)\n",
        "        return context_vec\n",
        "\n",
        "mqa = MultiQueryAttention(\n",
        "    d_in=embed_dim,\n",
        "    d_out=embed_dim,\n",
        "    context_length=context_len,\n",
        "    dropout=0.0,\n",
        "    num_heads=12,\n",
        "    qkv_bias=False\n",
        ").to(device)\n",
        "\n",
        "out = mqa(embeddings)\n",
        "print(out.shape)  # Should match MHACombinedQKV output shape!"
      ]
    },
    {
      "cell_type": "markdown",
      "metadata": {
        "id": "3C6mUwlHDOiZ"
      },
      "source": [
        "## 3- Group Query Attenyion (GQA):\n",
        "<p align=\"center\"><img src=\"images/GQA2.png\" alt=\"MQA Diagram\"/></p>  \n",
        "\n",
        "Group Query Attention (GQA) is a **middle ground** between **Multi-Head Attention (MHA)** and **Multi-Query Attention (MQA)**. Instead of having a **single shared key-value pair** (like MQA) or **unique key-value pairs for each head** (like MHA), GQA groups the attention heads and shares a **single key-value pair per group**.  \n",
        "\n",
        "### **The Core Idea**  \n",
        "- **Traditional MHA**: Each attention head has its own **unique keys (Ki)** and **values (Vi)**.  \n",
        "- **MQA**: All heads **share a single set of keys (K)** and **values (V)**.  \n",
        "- **GQA**: Heads are divided into **groups**, and each group shares a **single key-value pair**.  \n",
        "\n",
        "This approach balances:  \n",
        "- **Expressiveness**: More flexibility than MQA (since each group has its own key-value pair).  \n",
        "- **Efficiency**: Fewer key-value computations than MHA.  \n",
        "\n",
        "\n",
        "### **Tensor Manipulation**  \n",
        "- **Traditional MHA**:  \n",
        "  ```python  \n",
        "  keys = [batch, num_heads, seq_len, head_dim]  # Unique per head  \n",
        "  values = [batch, num_heads, seq_len, head_dim]  \n",
        "  ```  \n",
        "- **MQA**:  \n",
        "  ```python  \n",
        "  keys = [batch, 1, seq_len, head_dim]  # Shared across all heads  \n",
        "  values = [batch, 1, seq_len, head_dim]  \n",
        "  ```  \n",
        "- **GQA**:  \n",
        "  ```python  \n",
        "  keys = [batch, num_groups, seq_len, head_dim]  # Shared per group  \n",
        "  values = [batch, num_groups, seq_len, head_dim]  \n",
        "  ```  \n",
        "\n",
        "\n",
        "### **Trade-Offs**  \n",
        "- **Pros**:  \n",
        "  - **Memory Efficiency**: Fewer key-value pairs than MHA → reduced memory usage.  \n",
        "  - **Faster Inference**: Smaller KV cache compared to MHA.  \n",
        "  - **Better Expressiveness**: More flexible than MQA due to grouping.  \n",
        "  - **Scalability**: Handles longer sequences better than MHA.  \n",
        "  - **Training Requirement**: Models can be **uptrained with GQA** to use it at inference time.\n",
        "\n",
        "\n",
        "### **Comparison with MHA and MQA**  \n",
        "| Feature                | MHA                     | MQA                     | GQA                     |  \n",
        "|------------------------|-------------------------|-------------------------|-------------------------|  \n",
        "| **Key-Value Sharing**  | None (unique per head)  | Fully shared            | Shared per group        |  \n",
        "| **Memory Usage**       | High                   | Low                     | Moderate                |  \n",
        "| **Expressiveness**     | High                   | Low                     | Moderate                |  \n",
        "| **Inference Speed**    | Slow                   | Fast                    | Moderate                |  \n",
        "| **Training Required**  | No                     | Yes                     | Yes                     |  \n",
        "\n",
        "### **When to Use GQA?**  \n",
        "- You want **better efficiency** than MHA but **more expressiveness** than MQA.  \n",
        "- You need to handle **long sequences** without running out of memory.  \n",
        "- You’re targeting **real-time applications** where inference speed matters.  \n",
        "\n",
        "**Next**: Let’s implement GQA and see how it compares to MHA and MQA!  "
      ]
    },
    {
      "cell_type": "code",
      "execution_count": 6,
      "metadata": {
        "colab": {
          "base_uri": "https://localhost:8080/"
        },
        "id": "mRNVLEMGDOiZ",
        "outputId": "53e1f168-a07c-4b1e-a628-fd6fdd8bf659"
      },
      "outputs": [
        {
          "name": "stdout",
          "output_type": "stream",
          "text": [
            "torch.Size([8, 1024, 768])\n"
          ]
        }
      ],
      "source": [
        "import torch\n",
        "import torch.nn as nn\n",
        "\n",
        "class GroupQueryAttention(nn.Module):\n",
        "    def __init__(self, d_in, d_out, num_heads, num_groups, context_length, dropout=0.0, qkv_bias=False):\n",
        "        super().__init__()\n",
        "\n",
        "        assert d_out % num_heads == 0, \"embed_dim is indivisible by num_heads\"\n",
        "        assert num_heads % num_groups == 0, \"num_heads must be divisible by num_groups\"\n",
        "\n",
        "        self.num_heads = num_heads\n",
        "        self.num_groups = num_groups\n",
        "        self.context_length = context_length\n",
        "        self.head_dim = d_out // num_heads\n",
        "\n",
        "        # Separate projections for queries, but shared for keys/values within groups\n",
        "        self.q_proj = nn.Linear(d_in, d_out, bias=qkv_bias)  # Queries (unique per head)\n",
        "        self.kv_proj = nn.Linear(d_in, 2 * self.head_dim * num_groups, bias=qkv_bias)  # Shared keys/values per group\n",
        "\n",
        "        self.proj = nn.Linear(d_out, d_out)\n",
        "        self.dropout = nn.Dropout(dropout)\n",
        "\n",
        "        # Register a buffer for the causal mask\n",
        "        self.register_buffer(\n",
        "            \"mask\", torch.triu(torch.ones(context_length, context_length), diagonal=1).bool()\n",
        "        )\n",
        "\n",
        "    def forward(self, x):\n",
        "        batch_size, num_tokens, embed_dim = x.shape\n",
        "\n",
        "        # Project queries (unique per head)\n",
        "        queries = self.q_proj(x)  # (b, num_tokens, d_out)\n",
        "        queries = queries.view(batch_size, num_tokens, self.num_heads, self.head_dim)\n",
        "        queries = queries.permute(0, 2, 1, 3)  # (b, num_heads, num_tokens, head_dim)\n",
        "\n",
        "        # Project shared keys/values per group\n",
        "        kv = self.kv_proj(x)  # (b, num_tokens, 2 * head_dim * num_groups)\n",
        "        kv = kv.view(batch_size, num_tokens, self.num_groups, 2, self.head_dim)\n",
        "        kv = kv.permute(2, 3, 0, 1, 4)  # (num_groups, 2, b, num_tokens, head_dim)\n",
        "        keys, values = kv[:, 0], kv[:, 1]  # (num_groups, b, num_tokens, head_dim)\n",
        "\n",
        "        # Expand keys/values for all heads in each group\n",
        "        keys = keys.unsqueeze(2).repeat(1, 1, self.num_heads // self.num_groups, 1, 1)  # (num_groups, b, heads_per_group, num_tokens, head_dim)\n",
        "        values = values.unsqueeze(2).repeat(1, 1, self.num_heads // self.num_groups, 1, 1)  # (num_groups, b, heads_per_group, num_tokens, head_dim)\n",
        "\n",
        "        # Reshape keys/values to match the query shape\n",
        "        keys = keys.view(batch_size, self.num_heads, num_tokens, self.head_dim)  # (b, num_heads, num_tokens, head_dim)\n",
        "        values = values.view(batch_size, self.num_heads, num_tokens, self.head_dim)  # (b, num_heads, num_tokens, head_dim)\n",
        "\n",
        "        # Compute attention scores\n",
        "        attn_scores = queries @ keys.transpose(-2, -1)  # (b, num_heads, num_tokens, num_tokens)\n",
        "\n",
        "        # Dynamically resize the mask to match the number of tokens\n",
        "        causal_mask = self.mask[:num_tokens, :num_tokens]  # (num_tokens, num_tokens)\n",
        "        attn_scores = attn_scores.masked_fill(causal_mask, -torch.inf)\n",
        "\n",
        "        # Softmax + dropout\n",
        "        attn_weights = torch.softmax(attn_scores / keys.shape[-1]**0.5, dim=-1)\n",
        "        attn_weights = self.dropout(attn_weights)\n",
        "\n",
        "        # Compute context vector\n",
        "        context_vec = attn_weights @ values  # (b, num_heads, num_tokens, head_dim)\n",
        "        context_vec = context_vec.transpose(1, 2)  # (b, num_tokens, num_heads, head_dim)\n",
        "        context_vec = context_vec.contiguous().view(batch_size, num_tokens, -1)  # (b, num_tokens, d_out)\n",
        "\n",
        "        # Final projection\n",
        "        context_vec = self.proj(context_vec)\n",
        "        return context_vec\n",
        "\n",
        "\n",
        "\n",
        "# Create dummy embeddings\n",
        "batch_size = 8\n",
        "context_len = 1024\n",
        "embed_dim = 768\n",
        "embeddings = torch.randn((batch_size, context_len, embed_dim), device=device)\n",
        "num_heads = 12\n",
        "num_groups = 4\n",
        "\n",
        "gqa = GroupQueryAttention(\n",
        "    d_in=embed_dim,\n",
        "    d_out=embed_dim,\n",
        "    context_length=context_len,\n",
        "    dropout=0.0,\n",
        "    num_heads=num_heads,\n",
        "    num_groups=num_groups,\n",
        "    qkv_bias=False\n",
        ").to(device)\n",
        "\n",
        "out = gqa(embeddings)\n",
        "print(out.shape)  # Should be (batch_size, num_tokens, embed_dim)"
      ]
    },
    {
      "cell_type": "markdown",
      "metadata": {
        "id": "47qoc5BADOiZ"
      },
      "source": [
        "## 4- Flash Attention:\n",
        "\n",
        "<p align=\"center\">\n",
        "  <img src=\"images/Flah.png\" alt=\"Flash Attention Diagram\" style=\"width: 100%; max-width: 1200px; border-radius: 16px; box-shadow: 0 8px 20px rgb(0, 0, 0, 0.2);\"/>\n",
        "</p>\n",
        "\n",
        "\n",
        "So far, we’ve been exploring various attention mechanisms and their trade-offs in terms of memory usage and performance. Now, we turn our attention to Flash Attention, a technique designed to significantly speed up attention computation. The key difference lies in the approach: instead of modifying the model architecture, Flash Attention introduces an algorithmic optimization.\n",
        "\n",
        "The main idea behind Flash Attention is kernel fusion. In essence, it fuses all the operations required for attention computation into a single, efficient operation called scaled_dot_product_attention() in PyTorch.\n",
        "\n",
        "In traditional implementations, the inefficiency stems from the way GPUs handle memory. Specifically, tensors are often moved back and forth between different types of memory (global and shared memory), requiring multiple round trips. This results in latency and slows down the computation.\n",
        "\n",
        "Flash Attention addresses this issue by performing all the necessary computations in one pass using a single GPU kernel. This eliminates unnecessary memory transfers, optimizing both speed and memory usage. While it involves a large number of floating-point operations (FLOPs), the process is highly efficient due to reduced memory bottlenecks, making Flash Attention both faster and more resource-efficient.\n",
        "\n",
        "Here's a simplified explanation with code-style math to make the concepts clearer:\n",
        "\n",
        "---\n",
        "\n",
        "### Why Flash Attention Is Faster (Simplified)\n",
        "\n",
        "In traditional attention, the bottleneck comes from:\n",
        "1. **Memory overhead**: Large intermediate tensors like \\(QK^T\\) are stored in slow GPU global memory.\n",
        "2. **Multiple kernel launches**: Each step (dot product, softmax, matrix multiplication) requires separate operations, leading to inefficiencies.\n",
        "\n",
        "**Flash Attention** optimizes this by:\n",
        "- **Tiling the computation**: It splits the operation into small blocks that fit into fast **shared memory**.\n",
        "- **Kernel fusion**: Combines all steps (dot product, softmax, and matrix multiplication) into a single operation.\n",
        "\n",
        "---\n",
        "\n",
        "### Traditional Attention (Code Math)\n",
        "\n",
        "```python\n",
        "# Step 1: Compute QK^T\n",
        "attention_scores = Q @ K.T  # Complexity: O(N^2 * d_k)\n",
        "\n",
        "# Step 2: Scale and apply softmax\n",
        "attention_probs = softmax(attention_scores / sqrt(d_k))  # Complexity: O(N^2)\n",
        "\n",
        "# Step 3: Multiply by V\n",
        "output = attention_probs @ V  # Complexity: O(N^2 * d_v)\n",
        "\n",
        "# Total Complexity: O(N^2 * d)\n",
        "```\n",
        "\n",
        "---\n",
        "\n",
        "### Flash Attention (Code Math)\n",
        "\n",
        "Flash Attention combines everything into a **single kernel** like this:\n",
        "\n",
        "```python\n",
        "# Compute attention in one step (simplified pseudocode)\n",
        "output = scaled_dot_product_attention(Q, K, V)\n",
        "\n",
        "# Internally, this:\n",
        "# - Computes QK^T in tiles\n",
        "# - Applies scaling and softmax directly in shared memory\n",
        "# - Multiplies result by V, all without intermediate global memory storage\n",
        "\n",
        "# Total Complexity: Still O(N^2 * d), but faster in practice due to memory efficiency.\n",
        "```\n",
        "\n",
        "---\n",
        "\n",
        "### Key Differences\n",
        "\n",
        "| **Aspect**              | **Traditional Attention**                     | **Flash Attention**                 |\n",
        "|--------------------------|-----------------------------------------------|--------------------------------------|\n",
        "| Memory Usage            | Stores full \\(QK^T\\) and \\(\\text{softmax}(QK^T)\\) in global memory | Uses small tiles in fast shared memory |\n",
        "| Kernel Operations       | Separate kernels for each step                | Fused into one kernel               |\n",
        "| Performance Bottleneck  | Memory transfers between global and shared    | Minimal memory transfer             |\n",
        "| Speed                   | Slower for long sequences                     | 2x–4x faster, especially for long sequences |\n",
        "\n",
        "---\n",
        "\n",
        "### Why Flash Attention Is Fast\n",
        "\n",
        "1. **No Full Matrix Storage**: Instead of storing a large \\(QK^T\\) matrix, Flash Attention processes smaller \\(T \\times T\\) tiles (e.g., \\(T = 128\\)).\n",
        "2. **Fewer Memory Trips**: Operations happen locally in shared memory, reducing round trips to global memory."
      ]
    },
    {
      "cell_type": "code",
      "execution_count": 7,
      "metadata": {
        "colab": {
          "base_uri": "https://localhost:8080/"
        },
        "id": "YvzHaySoDOia",
        "outputId": "beb5b64a-db07-45b2-e4e8-7806bd126e14"
      },
      "outputs": [
        {
          "name": "stdout",
          "output_type": "stream",
          "text": [
            "torch.Size([8, 1024, 768])\n"
          ]
        }
      ],
      "source": [
        "class MHAFlashAttention(nn.Module):\n",
        "    def __init__(self, d_in, d_out, num_heads, context_length, dropout=0.0, qkv_bias=False):\n",
        "        super().__init__()\n",
        "\n",
        "        assert d_out % num_heads == 0, \"embed_dim is indivisible by num_heads\"\n",
        "\n",
        "        self.num_heads = num_heads\n",
        "        self.context_length = context_length\n",
        "        self.head_dim = d_out // num_heads\n",
        "        self.d_out = d_out\n",
        "\n",
        "        self.qkv = nn.Linear(d_in, 3 * d_out, bias=qkv_bias)\n",
        "        self.proj = nn.Linear(d_out, d_out)\n",
        "        self.dropout = dropout\n",
        "\n",
        "    def forward(self, x):\n",
        "        batch_size, num_tokens, embed_dim = x.shape\n",
        "\n",
        "        # (b, num_tokens, embed_dim) --> (b, num_tokens, 3 * embed_dim)\n",
        "        qkv = self.qkv(x)\n",
        "\n",
        "        # (b, num_tokens, 3 * embed_dim) --> (b, num_tokens, 3, num_heads, head_dim)\n",
        "        qkv = qkv.view(batch_size, num_tokens, 3, self.num_heads, self.head_dim)\n",
        "\n",
        "        # (b, num_tokens, 3, num_heads, head_dim) --> (3, b, num_heads, num_tokens, head_dim)\n",
        "        qkv = qkv.permute(2, 0, 3, 1, 4)\n",
        "\n",
        "        # (3, b, num_heads, num_tokens, head_dim) -> 3 times (b, num_heads, num_tokens, head_dim)\n",
        "        queries, keys, values = qkv\n",
        "\n",
        "        use_dropout = 0. if not self.training else self.dropout\n",
        "\n",
        "        context_vec = nn.functional.scaled_dot_product_attention(\n",
        "            queries, keys, values, attn_mask=None, dropout_p=use_dropout, is_causal=True)\n",
        "\n",
        "        # Combine heads, where self.d_out = self.num_heads * self.head_dim\n",
        "        context_vec = context_vec.transpose(1, 2).contiguous().view(batch_size, num_tokens, self.d_out)\n",
        "\n",
        "        context_vec = self.proj(context_vec)\n",
        "\n",
        "        return context_vec\n",
        "\n",
        "mha_pytorch_scaled = MHAFlashAttention(\n",
        "    d_in=embed_dim,\n",
        "    d_out=embed_dim,\n",
        "    context_length=context_len,\n",
        "    dropout=0.0,\n",
        "    num_heads=12,\n",
        "    qkv_bias=False\n",
        ").to(device)\n",
        "\n",
        "out = mha_pytorch_scaled(embeddings)\n",
        "print(out.shape)"
      ]
    },
    {
      "cell_type": "markdown",
      "metadata": {
        "id": "mxF1ftG4DOia"
      },
      "source": [
        "Alternativy you can use pytorch ready to use MultiheadAttention from the nn module"
      ]
    },
    {
      "cell_type": "code",
      "execution_count": 8,
      "metadata": {
        "colab": {
          "base_uri": "https://localhost:8080/"
        },
        "id": "5dlzz7eVDOia",
        "outputId": "4035b9a4-f81b-4182-825a-fa9fdec1cc0e"
      },
      "outputs": [
        {
          "name": "stdout",
          "output_type": "stream",
          "text": [
            "torch.Size([8, 1024, 768])\n"
          ]
        }
      ],
      "source": [
        "class MHAPyTorchClass(nn.Module):\n",
        "    def __init__(self, d_in, d_out, num_heads, context_length, dropout=0.0, qkv_bias=False, need_weights=True):\n",
        "        super().__init__()\n",
        "\n",
        "        self.context_length = context_length\n",
        "        self.multihead_attn = nn.MultiheadAttention(\n",
        "            embed_dim=d_out,\n",
        "            num_heads=num_heads,\n",
        "            dropout=dropout,\n",
        "            bias=qkv_bias,\n",
        "            add_bias_kv=qkv_bias,\n",
        "            batch_first=True,\n",
        "        )\n",
        "\n",
        "        self.need_weights = need_weights\n",
        "        self.proj = nn.Linear(d_out, d_out)\n",
        "        self.register_buffer(\"mask\", torch.triu(torch.ones(context_length, context_length), diagonal=1).bool())\n",
        "\n",
        "    def forward(self, x):\n",
        "        batch_size, num_tokens, _ = x.shape\n",
        "\n",
        "        # Ensure attn_mask is compatible with expected shape and `batch_first=True`\n",
        "        # No need to manually adjust for num_heads; ensure it's right for the sequence\n",
        "        if self.context_length >= num_tokens:\n",
        "            attn_mask = self.mask[:num_tokens, :num_tokens]\n",
        "        else:\n",
        "            attn_mask = self.mask[:self.context_length, :self.context_length]\n",
        "\n",
        "        # attn_mask broadcasting will handle batch_size dimension implicitly\n",
        "        attn_output, _ = self.multihead_attn(\n",
        "            x, x, x, attn_mask=attn_mask, need_weights=self.need_weights\n",
        "        )\n",
        "\n",
        "        output = self.proj(attn_output)\n",
        "\n",
        "        return output\n",
        "\n",
        "\n",
        "mha_pytorch_class_default = MHAPyTorchClass(\n",
        "    d_in=embed_dim,\n",
        "    d_out=embed_dim,\n",
        "    context_length=context_len,\n",
        "    dropout=0.0,\n",
        "    num_heads=12,\n",
        "    qkv_bias=False\n",
        ").to(device)\n",
        "\n",
        "out = mha_pytorch_class_default(embeddings)\n",
        "print(out.shape)"
      ]
    },
    {
      "cell_type": "markdown",
      "metadata": {
        "id": "hdLXLnXsDOia"
      },
      "source": [
        "or using PyTorch's torch.nn.MultiheadAttention with scaled_dot_product_attention.\n",
        "\n",
        "Set need_weights (default True) to False so that MultiheadAttention uses scaled_dot_product_attention according to the documentation\n",
        "need_weights: If specified, returns `attn_output_weights` in addition to `attn_outputs`.\n",
        "           Set `need_weights=False` to use the optimized `scaled_dot_product_attention`\n",
        "           and achieve the best performance for MHA.\n",
        "           Default: `True`"
      ]
    },
    {
      "cell_type": "code",
      "execution_count": 9,
      "metadata": {
        "colab": {
          "base_uri": "https://localhost:8080/"
        },
        "id": "WL-MxrsoDOia",
        "outputId": "f8ad4f9f-8534-428d-882b-cd949a4c2889"
      },
      "outputs": [
        {
          "name": "stdout",
          "output_type": "stream",
          "text": [
            "torch.Size([8, 1024, 768])\n"
          ]
        }
      ],
      "source": [
        "mha_pytorch_class_noweights = MHAPyTorchClass(\n",
        "    d_in=embed_dim,\n",
        "    d_out=embed_dim,\n",
        "    context_length=context_len,\n",
        "    dropout=0.0,\n",
        "    num_heads=12,\n",
        "    qkv_bias=False,\n",
        "    need_weights=False # NEW!\n",
        ").to(device)\n",
        "\n",
        "out = mha_pytorch_class_noweights(embeddings)\n",
        "print(out.shape)"
      ]
    },
    {
      "cell_type": "markdown",
      "metadata": {
        "id": "vGKmovnJDOia"
      },
      "source": [
        "There are several exciting implementations of attention mechanisms we can explore further, such as **Flash Attention v2**, which offers better support for parallelism, and **Flash Attention v3**, optimized specifically for H100 GPUs (which, let’s be honest, most of us don’t have—*hahaha*).  \n",
        "\n",
        "Other notable approaches include:  \n",
        "- **Sliding Window Attention**: Popular in models like Mistral, it effectively handles long sequences by focusing on local context.\n",
        "- **Paged Attention**: The backbone of the **vLLM project**, which efficiently manages memory for handling large-scale inference tasks.  \n",
        "\n",
        "While we’ve primarily covered the core concepts of attention mechanisms in a simplified manner, this foundation equips you with the tools to dive deeper—whether that means implementing new types of attention mechanisms or exploring the research papers behind them.  \n",
        "\n",
        "Before we wrap up, let’s put these implementations to the test! We'll benchmark them on both **CPU** and **GPU** to see how they perform in practice. Time to unleash the benchmarks and crunch some numbers! 🚀  \n",
        "\n",
        "Lets use a simple function that help us benchmark (%timeit)"
      ]
    },
    {
      "cell_type": "code",
      "execution_count": 10,
      "metadata": {
        "colab": {
          "base_uri": "https://localhost:8080/"
        },
        "id": "hc9nTdtUDOia",
        "outputId": "f04a6fb0-82e8-4c3d-9dab-694aefea6ca7"
      },
      "outputs": [
        {
          "name": "stdout",
          "output_type": "stream",
          "text": [
            "2.25 s ± 263 ms per loop (mean ± std. dev. of 7 runs, 1 loop each)\n",
            "5.79 s ± 243 ms per loop (mean ± std. dev. of 7 runs, 1 loop each)\n",
            "5.73 s ± 291 ms per loop (mean ± std. dev. of 7 runs, 1 loop each)\n",
            "1.57 s ± 107 ms per loop (mean ± std. dev. of 7 runs, 1 loop each)\n",
            "902 ms ± 114 ms per loop (mean ± std. dev. of 7 runs, 1 loop each)\n",
            "1.62 s ± 260 ms per loop (mean ± std. dev. of 7 runs, 1 loop each)\n"
          ]
        }
      ],
      "source": [
        "import torch\n",
        "import torch.nn as nn\n",
        "\n",
        "# Assuming all the classes (MultiheadAttention, MHACombinedQKV, etc.) are properly defined above.\n",
        "\n",
        "# Initialize devices and embeddings\n",
        "device = torch.device(\"cpu\")\n",
        "batch_size = 8\n",
        "context_len = 1024\n",
        "embed_dim = 768\n",
        "embeddings = torch.randn((batch_size, context_len, embed_dim), device=device)\n",
        "\n",
        "# Initialize models\n",
        "mha = MultiheadAttention(d_in=embed_dim, d_out=embed_dim, num_heads=8, context_length=context_len).to(device)\n",
        "mha_combined_qkv = MHACombinedQKV(d_in=embed_dim, d_out=embed_dim, num_heads=8, context_length=context_len).to(device)\n",
        "multi_query_attention = MultiQueryAttention(d_in=embed_dim, d_out=embed_dim, num_heads=8, context_length=context_len).to(device)\n",
        "group_query_attention = GroupQueryAttention(d_in=embed_dim, d_out=embed_dim, num_heads=8, context_length=context_len, num_groups=4).to(device)\n",
        "mha_flash_attention = MHAFlashAttention(d_in=embed_dim, d_out=embed_dim, num_heads=8, context_length=context_len).to(device)\n",
        "mha_pytorch_class = MHAPyTorchClass(d_in=embed_dim, d_out=embed_dim, num_heads=8, context_length=context_len).to(device)\n",
        "\n",
        "# Benchmarking each model using %timeit\n",
        "%timeit mha(embeddings)\n",
        "%timeit mha_combined_qkv(embeddings)\n",
        "%timeit multi_query_attention(embeddings)\n",
        "%timeit group_query_attention(embeddings)\n",
        "%timeit mha_flash_attention(embeddings)\n",
        "%timeit mha_pytorch_class(embeddings)\n"
      ]
    },
    {
      "cell_type": "markdown",
      "metadata": {
        "id": "u_qKadtUEd7A"
      },
      "source": [
        "A helper function to visulize the results"
      ]
    },
    {
      "cell_type": "code",
      "execution_count": 11,
      "metadata": {
        "id": "2FAXbODIDOia"
      },
      "outputs": [],
      "source": [
        "import time\n",
        "import torch\n",
        "import matplotlib.pyplot as plt\n",
        "\n",
        "def benchmark_models(models, embeddings):\n",
        "    \"\"\"\n",
        "    Benchmark the execution time of multiple models and plot the results.\n",
        "\n",
        "    Parameters:\n",
        "    - models (dict): A dictionary where keys are model names and values are model instances.\n",
        "    - embeddings (torch.Tensor): The input tensor (embeddings) to run through the models.\n",
        "    \"\"\"\n",
        "    # Initialize a dictionary to store the timing results\n",
        "    timing_results = {}\n",
        "\n",
        "    # Measure the time for each model's forward pass\n",
        "    for model_name, model in models.items():\n",
        "        # Ensure the model is on the right device\n",
        "        model = model.to(embeddings.device)\n",
        "\n",
        "        # Timing the forward pass\n",
        "        start_time = time.time()\n",
        "        _ = model(embeddings)\n",
        "        end_time = time.time()\n",
        "\n",
        "        # Calculate the elapsed time\n",
        "        elapsed_time = end_time - start_time\n",
        "        timing_results[model_name] = elapsed_time\n",
        "\n",
        "    # Plotting the timing results\n",
        "    plt.figure(figsize=(10, 6))\n",
        "    plt.bar(timing_results.keys(), timing_results.values(), color='skyblue')\n",
        "    plt.xlabel(\"Model\")\n",
        "    plt.ylabel(\"Time (seconds)\")\n",
        "    plt.title(\"Model Execution Time Comparison\")\n",
        "    plt.xticks(rotation=45, ha='right')\n",
        "    plt.tight_layout()\n",
        "    plt.show()\n"
      ]
    },
    {
      "cell_type": "code",
      "execution_count": 12,
      "metadata": {
        "colab": {
          "base_uri": "https://localhost:8080/",
          "height": 607
        },
        "id": "zK8o_PuKDOib",
        "outputId": "3b20ec3a-cfe0-40ab-8904-f666c7732c72"
      },
      "outputs": [
        {
          "data": {
            "image/png": "[encoded data removed]",
            "text/plain": [
              "<Figure size 1000x600 with 1 Axes>"
            ]
          },
          "metadata": {},
          "output_type": "display_data"
        }
      ],
      "source": [
        "batch_size = 8\n",
        "context_len = 1024\n",
        "embed_dim = 768\n",
        "embeddings = torch.randn((batch_size, context_len, embed_dim), device=device)\n",
        "\n",
        "# Define your models here (make sure they are properly initialized)\n",
        "models = {\n",
        "    \"MultiheadAttention\": mha,\n",
        "    \"MHACombinedQKV\": mha_combined_qkv,\n",
        "    \"MultiQueryAttention\": multi_query_attention,\n",
        "    \"GroupQueryAttention\": group_query_attention,\n",
        "    \"MHAFlashAttention\": mha_flash_attention,\n",
        "    \"MHAPyTorchClass\": mha_pytorch_class\n",
        "}\n",
        "\n",
        "# Call the benchmark function\n",
        "benchmark_models(models, embeddings)\n"
      ]
    },
    {
      "cell_type": "markdown",
      "metadata": {
        "id": "HReCSZrUE8hS"
      },
      "source": [
        "Moving on the GPU (googlr collab T4)"
      ]
    },
    {
      "cell_type": "code",
      "execution_count": 13,
      "metadata": {
        "colab": {
          "base_uri": "https://localhost:8080/"
        },
        "id": "ns0fgRYHDOib",
        "outputId": "055095d9-1aa8-4d76-eae6-55ceeaf6ff8b"
      },
      "outputs": [
        {
          "name": "stdout",
          "output_type": "stream",
          "text": [
            "25.2 ms ± 106 µs per loop (mean ± std. dev. of 7 runs, 100 loops each)\n",
            "22 ms ± 279 µs per loop (mean ± std. dev. of 7 runs, 10 loops each)\n",
            "27.5 ms ± 2.54 ms per loop (mean ± std. dev. of 7 runs, 10 loops each)\n",
            "22.9 ms ± 108 µs per loop (mean ± std. dev. of 7 runs, 100 loops each)\n",
            "11.4 ms ± 3.97 ms per loop (mean ± std. dev. of 7 runs, 100 loops each)\n",
            "65 ms ± 20.1 ms per loop (mean ± std. dev. of 7 runs, 10 loops each)\n"
          ]
        }
      ],
      "source": [
        "# Initialize devices and embeddings\n",
        "device = torch.device(\"cuda\")\n",
        "\n",
        "embeddings = torch.randn((batch_size, context_len, embed_dim), device=device)\n",
        "\n",
        "# Initialize models\n",
        "mha = MultiheadAttention(d_in=embed_dim, d_out=embed_dim, num_heads=8, context_length=context_len).to(device)\n",
        "mha_combined_qkv = MHACombinedQKV(d_in=embed_dim, d_out=embed_dim, num_heads=8, context_length=context_len).to(device)\n",
        "multi_query_attention = MultiQueryAttention(d_in=embed_dim, d_out=embed_dim, num_heads=8, context_length=context_len).to(device)\n",
        "group_query_attention = GroupQueryAttention(d_in=embed_dim, d_out=embed_dim, num_heads=8, context_length=context_len, num_groups=4).to(device)\n",
        "mha_flash_attention = MHAFlashAttention(d_in=embed_dim, d_out=embed_dim, num_heads=8, context_length=context_len).to(device)\n",
        "mha_pytorch_class = MHAPyTorchClass(d_in=embed_dim, d_out=embed_dim, num_heads=8, context_length=context_len).to(device)\n",
        "\n",
        "# Benchmarking each model using %timeit\n",
        "%timeit mha(embeddings)\n",
        "%timeit mha_combined_qkv(embeddings)\n",
        "%timeit multi_query_attention(embeddings)\n",
        "%timeit group_query_attention(embeddings)\n",
        "%timeit mha_flash_attention(embeddings)\n",
        "%timeit mha_pytorch_class(embeddings)\n"
      ]
    },
    {
      "cell_type": "markdown",
      "metadata": {
        "id": "gaOf5atOG1Cd"
      },
      "source": [
        "Notice that this is ms not seconds\n",
        "\n",
        "+ Flash Attention goes BURRRRRR! 🔥"
      ]
    },
    {
      "cell_type": "code",
      "execution_count": 14,
      "metadata": {
        "colab": {
          "base_uri": "https://localhost:8080/",
          "height": 607
        },
        "id": "EKKPWNL3Fe1R",
        "outputId": "b6c345d6-bf25-419e-8a46-9faa86962933"
      },
      "outputs": [
        {
          "data": {
            "image/png": "[encoded data removed]",
            "text/plain": [
              "<Figure size 1000x600 with 1 Axes>"
            ]
          },
          "metadata": {},
          "output_type": "display_data"
        }
      ],
      "source": [
        "# Define your models here (make sure they are properly initialized)\n",
        "models = {\n",
        "    \"MultiheadAttention\": mha,\n",
        "    \"MHACombinedQKV\": mha_combined_qkv,\n",
        "    \"MultiQueryAttention\": multi_query_attention,\n",
        "    \"GroupQueryAttention\": group_query_attention,\n",
        "    \"MHAFlashAttention\": mha_flash_attention,\n",
        "    \"MHAPyTorchClass\": mha_pytorch_class\n",
        "}\n",
        "\n",
        "# Call the benchmark function\n",
        "benchmark_models(models, embeddings)\n"
      ]
    },
    {
      "cell_type": "markdown",
      "metadata": {
        "id": "pfoemJ3KDOib"
      },
      "source": [
        "### **Conclusion: Wrapping Up the Attention Optimization Journey** 🚀\n",
        "\n",
        "**Whoa!** Look at you go! You've just supercharged your knowledge of **attention mechanisms** and learned how to make them lightning-fast and super-efficient! ⚡🎉\n",
        "\n",
        "In this notebook, we dove into the deep end and explored the wizardry of attention variants like **Multi-Query Attention (MQA)**, **Grouped Query Attention (GQA)**, and **Flash Attention**. We didn’t just skim the surface—we got into the nitty-gritty of how these bad boys can save memory and *zoom* through computations, all while keeping accuracy intact. 🧠💥\n",
        "\n",
        "Here’s the highlight reel:  \n",
        "- **Turbocharged Speed**: With techniques like Flash Attention, we slashed computation time like a lightsaber through butter! ⚔️  \n",
        "- **Memory Magician**: MQA and GQA helped us squeeze out every last byte of memory, letting us process bigger sequences without breaking a sweat.  \n",
        "- **Speed vs. Quality Showdown**: We learned the *art* of balancing blazing speed with high-quality output. It's all about those **real-world trade-offs**—a skill you'll need when fine-tuning your models for production.\n",
        "\n",
        "We also got our hands dirty with benchmarks, comparing **vanilla attention** to the **Flash Attention v2** rocketship. 🚀 The results? Speed increases and memory cuts that were jaw-dropping.\n",
        "\n",
        "Now that you've unlocked these optimization powers, you're ready to tackle bigger beasts like **MyLLM-GPT** without worrying about your GPU catching fire. 🔥💡\n",
        "\n",
        "---\n",
        "\n",
        "**Up Next**: You’ve mastered attention optimization. So, what’s the next step? Well, it's time to plug all that knowledge into a **MyLLM-GPT** architecture and watch it run faster than ever. Head over to **Notebook 3.1** to build your very own LLM powerhouse. 🌟\n",
        "\n",
        "---\n",
        "\n",
        "Keep optimizing, keep building, and most importantly, keep having fun with it! You're officially on your way to becoming a **machine learning wizard**. ✨ Happy coding, you legend! 😎"
      ]
    },
    {
      "cell_type": "markdown",
      "metadata": {
        "id": "fKf6u04uDOib"
      },
      "source": []
    }
  ],
  "metadata": {
    "accelerator": "GPU",
    "colab": {
      "gpuType": "T4",
      "provenance": []
    },
    "kernelspec": {
      "display_name": "LLM",
      "language": "python",
      "name": "python3"
    },
    "language_info": {
      "codemirror_mode": {
        "name": "ipython",
        "version": 3
      },
      "file_extension": ".py",
      "mimetype": "text/x-python",
      "name": "python",
      "nbconvert_exporter": "python",
      "pygments_lexer": "ipython3",
      "version": "3.10.16"
    }
  },
  "nbformat": 4,
  "nbformat_minor": 0
}
