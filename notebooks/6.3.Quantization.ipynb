{
 "cells": [
  {
   "cell_type": "code",
   "execution_count": 3,
   "metadata": {},
   "outputs": [],
   "source": [
    "\n",
    "import torch\n",
    "import torch.nn as nn\n",
    "import torch.nn.functional as F"
   ]
  },
  {
   "cell_type": "markdown",
   "metadata": {},
   "source": [
    "what we can quantize ? \n",
    "1- the wieghts\n",
    "2- the activation \n",
    "\n",
    "after quantization we get : \n",
    "- samller models  \n",
    "- speed gain \n",
    "- faster operation \n",
    "\n",
    "quantization after the training called POST-TRAINING QUANTIZATION \n",
    "\n",
    "\n",
    "## linear quantization is a popluar method of quantization \n",
    "\n",
    "in linear quantization we map high presision value to lower\n",
    "like fp32 to int 8 \n",
    "\n",
    "Formula : \n",
    "\n",
    "r = s(q - z)\n",
    "\n",
    "where : \n",
    "s : scale (as the original tensor)\n",
    "z : zero point (the quantized tensor)\n",
    "\n",
    "getting q : \n",
    "\n",
    "form the original formaula above \n",
    "\n",
    "r/s = q - z \n",
    "\n",
    "q = r/s + z \n",
    "\n",
    "q = round(r/s + z)\n",
    "q = int (round(r/s + z))\n",
    "\n"
   ]
  },
  {
   "cell_type": "code",
   "execution_count": 4,
   "metadata": {},
   "outputs": [],
   "source": [
    "def linear_Q(\n",
    "        tensor,\n",
    "        scale,\n",
    "        zero,\n",
    "        dtype = torch.int8\n",
    "):\n",
    "    \n",
    "    scaled_shifted_tensor = tensor / scale + zero \n",
    "    rounded = torch.round(scaled_shifted_tensor)\n",
    "\n",
    "    q_min = torch.iinfo(dtype).min \n",
    "    q_max = torch.iinfo(dtype).max \n",
    "\n",
    "    q_tensor = rounded.clamp(q_min, q_max).to(dtype)\n",
    "\n",
    "    return q_tensor"
   ]
  },
  {
   "cell_type": "code",
   "execution_count": 5,
   "metadata": {},
   "outputs": [],
   "source": [
    "test_tensor = torch.tensor(\n",
    "    [[191.5 , -13.5, 728.6],\n",
    "     [92.14, 295.5, -184],\n",
    "     [0 , 684.6 , 245.5]\n",
    "    ]\n",
    ")\n",
    "\n"
   ]
  },
  {
   "cell_type": "code",
   "execution_count": 6,
   "metadata": {},
   "outputs": [
    {
     "name": "stdout",
     "output_type": "stream",
     "text": [
      "tensor([[ -15,  -74,  127],\n",
      "        [ -44,   14, -123],\n",
      "        [ -70,  126,    0]], dtype=torch.int8)\n"
     ]
    }
   ],
   "source": [
    "scale = 3.5 \n",
    "zero = -70 \n",
    "\n",
    "quantized_tensor = linear_Q(test_tensor,scale,zero)\n",
    "\n",
    "print(quantized_tensor)"
   ]
  },
  {
   "cell_type": "code",
   "execution_count": 7,
   "metadata": {},
   "outputs": [
    {
     "data": {
      "text/plain": [
       "tensor([[ 192.5000,  -14.0000,  689.5000],\n",
       "        [  91.0000,  294.0000, -185.5000],\n",
       "        [   0.0000,  686.0000,  245.0000]])"
      ]
     },
     "execution_count": 7,
     "metadata": {},
     "output_type": "execute_result"
    }
   ],
   "source": [
    "dequant_tensor = scale * (quantized_tensor.float() - zero)\n",
    "dequant_tensor"
   ]
  },
  {
   "cell_type": "code",
   "execution_count": 8,
   "metadata": {},
   "outputs": [
    {
     "data": {
      "text/plain": [
       "tensor([[ 192.5000,  -14.0000, -206.5000],\n",
       "        [  91.0000,  294.0000, -185.5000],\n",
       "        [   0.0000, -210.0000,  245.0000]])"
      ]
     },
     "execution_count": 8,
     "metadata": {},
     "output_type": "execute_result"
    }
   ],
   "source": [
    "dequant_tensor = scale * (quantized_tensor- zero)\n",
    "dequant_tensor\n"
   ]
  },
  {
   "cell_type": "code",
   "execution_count": 9,
   "metadata": {},
   "outputs": [],
   "source": [
    "def linear_DQ(quantized_tensor, scale, zero):\n",
    "    return scale * (quantized_tensor- zero)"
   ]
  },
  {
   "cell_type": "code",
   "execution_count": 10,
   "metadata": {},
   "outputs": [],
   "source": [
    "# ploting helper function for quantization error \n"
   ]
  },
  {
   "cell_type": "markdown",
   "metadata": {},
   "source": [
    "linear quantization mao [rmin , rmax] to the [qmin , qmax]\n",
    "\n",
    "rmin = s(qmin - z)\n",
    "rmax = s(qmax - z)\n",
    "\n",
    "so for s : \n",
    "\n",
    "s = (rmax -rmin) / (qmax -qmin)\n",
    "\n",
    "and for z: \n",
    "\n",
    "z = int(round(qmin - rmin / s) --> same data type as quantized tensor\n",
    "\n",
    "\n",
    "for the prevuos example find s and z ? \n",
    "\n",
    "\n",
    "handling the edge cases for z \n",
    "what happen if tyhe zero value is out of range \n",
    "\n",
    "if z > qmax >> z = qmax \n",
    "if z < qmin >> z = qmin "
   ]
  },
  {
   "cell_type": "code",
   "execution_count": 11,
   "metadata": {},
   "outputs": [],
   "source": [
    "def get_scale_and_zero_values(\n",
    "        r_tensor,\n",
    "        dtype = torch.int8\n",
    "):\n",
    "    q_max , q_min = torch.iinfo(dtype).max , torch.iinfo(dtype).min \n",
    "    r_min , r_max  = r_tensor.min().item() , r_tensor.max().item()\n",
    "\n",
    "    scale = (r_max - r_min) / (q_max - q_min) \n",
    "    z = q_min - (r_min/scale)\n",
    "\n",
    "    if q_min <=z <= q_max :\n",
    "        z = int(round(z))\n",
    "    elif z < q_min : \n",
    "        z = q_min \n",
    "    elif z < q_max : \n",
    "        z = q_max\n",
    "\n",
    "    return scale , z \n",
    "    \n",
    " "
   ]
  },
  {
   "cell_type": "code",
   "execution_count": 12,
   "metadata": {},
   "outputs": [
    {
     "name": "stdout",
     "output_type": "stream",
     "text": [
      "3.578823433670343\n",
      "-77\n"
     ]
    }
   ],
   "source": [
    "new_scale , new_zero = get_scale_and_zero_values(test_tensor, torch.int8)\n",
    "\n",
    "print(new_scale)\n",
    "print(new_zero)"
   ]
  },
  {
   "cell_type": "code",
   "execution_count": 13,
   "metadata": {},
   "outputs": [],
   "source": [
    "quantized_tensor = linear_Q(test_tensor, new_scale, new_zero)\n",
    "dequant_tensor = linear_DQ (quantized_tensor, new_scale, new_zero) "
   ]
  },
  {
   "cell_type": "code",
   "execution_count": 14,
   "metadata": {},
   "outputs": [
    {
     "name": "stdout",
     "output_type": "stream",
     "text": [
      "tensor([[ -23,  -81,  127],\n",
      "        [ -51,    6, -128],\n",
      "        [ -77,  114,   -8]], dtype=torch.int8)\n",
      "tensor([[ 193.2565,  -14.3153, -186.0988],\n",
      "        [  93.0494,  297.0423, -182.5200],\n",
      "        [   0.0000, -232.6235,  246.9388]])\n"
     ]
    }
   ],
   "source": [
    "print(quantized_tensor)\n",
    "print(dequant_tensor)"
   ]
  },
  {
   "cell_type": "code",
   "execution_count": 15,
   "metadata": {},
   "outputs": [],
   "source": [
    "# test the error again"
   ]
  },
  {
   "cell_type": "code",
   "execution_count": 16,
   "metadata": {},
   "outputs": [],
   "source": [
    "# make a general linear quantazation funcion:\n",
    "def linear_quantizer(tensor,dtype = torch.int8):\n",
    "    scale , zero_point = get_scale_and_zero_values(tensor, dtype=dtype)\n",
    "    quantized_tensor = linear_Q(tensor, scale , zero_point, dtype=dtype)\n",
    "    return quantized_tensor , scale , zero_point\n"
   ]
  },
  {
   "cell_type": "code",
   "execution_count": 17,
   "metadata": {},
   "outputs": [
    {
     "data": {
      "text/plain": [
       "tensor([[-0.0478,  1.7570, -0.7924, -1.0906],\n",
       "        [-0.4930,  0.0235, -0.6162,  0.5439],\n",
       "        [-0.5460,  0.5273,  0.8849, -0.6643],\n",
       "        [-0.2852, -1.2923,  0.5774, -0.5834]])"
      ]
     },
     "execution_count": 17,
     "metadata": {},
     "output_type": "execute_result"
    }
   ],
   "source": [
    "r_tensor = torch.randn((4,4))\n",
    "r_tensor"
   ]
  },
  {
   "cell_type": "code",
   "execution_count": 18,
   "metadata": {},
   "outputs": [],
   "source": [
    "quantized_tensor , scale , zero = linear_quantizer(r_tensor)"
   ]
  },
  {
   "cell_type": "code",
   "execution_count": 19,
   "metadata": {},
   "outputs": [
    {
     "data": {
      "text/plain": [
       "tensor([[ -24,  127,  -86, -111],\n",
       "        [ -61,  -18,  -72,   25],\n",
       "        [ -66,   24,   54,  -76],\n",
       "        [ -44, -128,   28,  -69]], dtype=torch.int8)"
      ]
     },
     "execution_count": 19,
     "metadata": {},
     "output_type": "execute_result"
    }
   ],
   "source": [
    "quantized_tensor"
   ]
  },
  {
   "cell_type": "code",
   "execution_count": 20,
   "metadata": {},
   "outputs": [
    {
     "data": {
      "text/plain": [
       "-20"
      ]
     },
     "execution_count": 20,
     "metadata": {},
     "output_type": "execute_result"
    }
   ],
   "source": [
    "zero "
   ]
  },
  {
   "cell_type": "code",
   "execution_count": 21,
   "metadata": {},
   "outputs": [
    {
     "data": {
      "text/plain": [
       "0.011958020808649997"
      ]
     },
     "execution_count": 21,
     "metadata": {},
     "output_type": "execute_result"
    }
   ],
   "source": [
    "scale"
   ]
  },
  {
   "cell_type": "code",
   "execution_count": 22,
   "metadata": {},
   "outputs": [],
   "source": [
    "##SEMMETRICS VS ASYMMERTICS MODE : \n",
    "\n",
    "def symmetric_q_scale(tensor , dtype = torch.int8):\n",
    "    r_max = tensor.abs().max().item() \n",
    "    q_max = torch.iinfo(dtype).max \n",
    "    return r_max / q_max \n"
   ]
  },
  {
   "cell_type": "code",
   "execution_count": 23,
   "metadata": {},
   "outputs": [
    {
     "data": {
      "text/plain": [
       "tensor([[ 0.5755, -0.9131,  1.6683, -0.3982],\n",
       "        [ 1.0982,  0.8709, -0.1981,  0.4716],\n",
       "        [ 0.6617, -0.8226, -0.4381, -0.0852],\n",
       "        [ 0.5221, -1.0901,  2.5888,  1.7138]])"
      ]
     },
     "execution_count": 23,
     "metadata": {},
     "output_type": "execute_result"
    }
   ],
   "source": [
    "test_tensor = torch.randn((4,4))\n",
    "test_tensor"
   ]
  },
  {
   "cell_type": "code",
   "execution_count": 24,
   "metadata": {},
   "outputs": [
    {
     "name": "stdout",
     "output_type": "stream",
     "text": [
      "0.020384512548371564\n"
     ]
    }
   ],
   "source": [
    "print(symmetric_q_scale(test_tensor))"
   ]
  },
  {
   "cell_type": "code",
   "execution_count": 25,
   "metadata": {},
   "outputs": [],
   "source": [
    "def linear_q_sym(tensor , dtype = torch.int8):\n",
    "    scale = symmetric_q_scale(tensor)\n",
    "    quantized_tensor = linear_Q(tensor, scale,zero=0,dtype=dtype)\n",
    "    return quantized_tensor , scale\n"
   ]
  },
  {
   "cell_type": "code",
   "execution_count": 26,
   "metadata": {},
   "outputs": [
    {
     "data": {
      "text/plain": [
       "tensor([[ 28, -45,  82, -20],\n",
       "        [ 54,  43, -10,  23],\n",
       "        [ 32, -40, -21,  -4],\n",
       "        [ 26, -53, 127,  84]], dtype=torch.int8)"
      ]
     },
     "execution_count": 26,
     "metadata": {},
     "output_type": "execute_result"
    }
   ],
   "source": [
    "quantized_tensor , scale = linear_q_sym(test_tensor)\n",
    "quantized_tensor"
   ]
  },
  {
   "cell_type": "code",
   "execution_count": 27,
   "metadata": {},
   "outputs": [],
   "source": [
    "## def quantization_error():\n",
    "## the trade off and the usew cases of the two types of quantization "
   ]
  },
  {
   "cell_type": "markdown",
   "metadata": {},
   "source": [
    "- when using asymm qi=uantization the q range is fully utilized \n",
    "- in symm if the float points is bias towrd one side  (like relu activation) the quantized range will be also bias toward one side \n",
    "- symm is more simplier \n",
    "- also more memeory effience since we dont store the zero value (z = 0)\n",
    "\n",
    "in practice : \n",
    "- symm for 8 bit \n",
    "- for lower bit like 2 and 4 use asymm \n",
    "\n",
    "\n",
    "Type of quantization methos : \n",
    "- per tensor quan \n",
    "- per channel quan \n"
   ]
  },
  {
   "cell_type": "code",
   "execution_count": 28,
   "metadata": {},
   "outputs": [],
   "source": [
    "## Per Channel Quantization\n",
    "## we need to store the z and scale for every row (if we decide to use the row) or alonmg the coloums \n",
    "## the memory required is low and we use this normally with 8 bit quantization \n",
    "import torch\n",
    "\n",
    "def linear_q_sym_per_channel(tensor,\n",
    "                             dim,\n",
    "                             dtype=torch.int8):\n",
    "    # tensor: Input tensor of shape (N, C, H, W) or any arbitrary shape\n",
    "    # dim: The dimension along which quantization is performed\n",
    "    # dtype: Data type for quantization (default: int8)\n",
    "\n",
    "    output_dim = tensor.shape[dim]  # Size of the selected dimension\n",
    "    scale = torch.zeros(output_dim)  # Shape: (output_dim,)\n",
    "\n",
    "    for index in range(output_dim):\n",
    "        sub_tensor = tensor.select(dim, index)  # Shape: (remaining dimensions after selecting along 'dim')\n",
    "        scale[index] = symmetric_q_scale(sub_tensor, dtype=dtype)  # Compute scale for the sub-tensor\n",
    "\n",
    "        scale_shape = [1] * tensor.dim()  # Create shape list with all ones\n",
    "        scale_shape[dim] = -1  # Set the selected dimension to -1 (broadcasting)\n",
    "        scale = scale.view(scale_shape)  # Reshape scale tensor to match broadcasting shape\n",
    "\n",
    "        quantized_tensor = linear_Q(tensor, scale, zero=0, dtype=dtype)  \n",
    "        # quantized_tensor: Same shape as input tensor\n",
    "\n",
    "        return quantized_tensor, scale  # quantized_tensor shape: same as tensor, scale shape: broadcasted shape\n"
   ]
  },
  {
   "cell_type": "code",
   "execution_count": 29,
   "metadata": {},
   "outputs": [
    {
     "data": {
      "text/plain": [
       "3"
      ]
     },
     "execution_count": 29,
     "metadata": {},
     "output_type": "execute_result"
    }
   ],
   "source": [
    "test_tensor = torch.tensor(\n",
    "    [[191.5 , -13.5, 728.6],\n",
    "     [92.14, 295.5, -184],\n",
    "     [0 , 684.6 , 245.5]\n",
    "    ]\n",
    ")\n",
    "\n",
    "dim = 0\n",
    "\n",
    "out_dim = test_tensor.shape[dim]\n",
    "out_dim"
   ]
  },
  {
   "cell_type": "code",
   "execution_count": 30,
   "metadata": {},
   "outputs": [
    {
     "data": {
      "text/plain": [
       "tensor([0., 0., 0.])"
      ]
     },
     "execution_count": 30,
     "metadata": {},
     "output_type": "execute_result"
    }
   ],
   "source": [
    "scale = torch.zeros(out_dim)\n",
    "scale"
   ]
  },
  {
   "cell_type": "code",
   "execution_count": 31,
   "metadata": {},
   "outputs": [
    {
     "data": {
      "text/plain": [
       "tensor([5.7370, 2.3268, 5.3906])"
      ]
     },
     "execution_count": 31,
     "metadata": {},
     "output_type": "execute_result"
    }
   ],
   "source": [
    "for index in range(out_dim):\n",
    "    sub_tensor = test_tensor.select(dim , index)\n",
    "    # print(sub_tensor)\n",
    "    scale[index] = symmetric_q_scale(sub_tensor)\n",
    "    # print(scale[index])\n",
    "\n",
    "scale \n"
   ]
  },
  {
   "cell_type": "code",
   "execution_count": 32,
   "metadata": {},
   "outputs": [
    {
     "data": {
      "text/plain": [
       "[1, 1]"
      ]
     },
     "execution_count": 32,
     "metadata": {},
     "output_type": "execute_result"
    }
   ],
   "source": [
    "scale_shape = [1] * test_tensor.dim()\n",
    "scale_shape"
   ]
  },
  {
   "cell_type": "code",
   "execution_count": 33,
   "metadata": {},
   "outputs": [
    {
     "data": {
      "text/plain": [
       "[-1, 1]"
      ]
     },
     "execution_count": 33,
     "metadata": {},
     "output_type": "execute_result"
    }
   ],
   "source": [
    "scale_shape[dim] = -1\n",
    "scale_shape"
   ]
  },
  {
   "cell_type": "code",
   "execution_count": 34,
   "metadata": {},
   "outputs": [
    {
     "data": {
      "text/plain": [
       "tensor([[5.7370],\n",
       "        [2.3268],\n",
       "        [5.3906]])"
      ]
     },
     "execution_count": 34,
     "metadata": {},
     "output_type": "execute_result"
    }
   ],
   "source": [
    "scale = scale.view(scale_shape)\n",
    "scale "
   ]
  },
  {
   "cell_type": "code",
   "execution_count": 35,
   "metadata": {},
   "outputs": [
    {
     "data": {
      "text/plain": [
       "tensor([[ 33,  -2, 127],\n",
       "        [ 40, 127, -79],\n",
       "        [  0, 127,  46]], dtype=torch.int8)"
      ]
     },
     "execution_count": 35,
     "metadata": {},
     "output_type": "execute_result"
    }
   ],
   "source": [
    "quantized_tensor = linear_Q(test_tensor, scale, zero=0) \n",
    "quantized_tensor"
   ]
  },
  {
   "cell_type": "code",
   "execution_count": 36,
   "metadata": {},
   "outputs": [
    {
     "data": {
      "text/plain": [
       "tensor([[  33,   -2,  127],\n",
       "        [ 127,  127, -128],\n",
       "        [   0,  127,  127]], dtype=torch.int8)"
      ]
     },
     "execution_count": 36,
     "metadata": {},
     "output_type": "execute_result"
    }
   ],
   "source": [
    "quantized_tensor_0 , scale_0 = linear_q_sym_per_channel(test_tensor, dim=0)\n",
    "quantized_tensor_0"
   ]
  },
  {
   "cell_type": "code",
   "execution_count": 37,
   "metadata": {},
   "outputs": [
    {
     "data": {
      "text/plain": [
       "tensor([[ 127, -128,  127],\n",
       "        [  61,  127, -128],\n",
       "        [   0,  127,  127]], dtype=torch.int8)"
      ]
     },
     "execution_count": 37,
     "metadata": {},
     "output_type": "execute_result"
    }
   ],
   "source": [
    "quantized_tensor_1, scale_1 = linear_q_sym_per_channel(test_tensor, dim=1)\n",
    "quantized_tensor_1"
   ]
  },
  {
   "cell_type": "code",
   "execution_count": 38,
   "metadata": {},
   "outputs": [],
   "source": [
    "import torch\n",
    "import seaborn as sns\n",
    "import matplotlib.pyplot as plt\n",
    "from matplotlib.colors import ListedColormap\n",
    "import torch\n",
    "\n",
    "\n",
    "def quantization_error(tensor, dequantized_tensor):\n",
    "    return (dequantized_tensor - tensor).abs().square().mean()\n",
    "\n",
    "\n",
    "def linear_q_with_scale_and_zero_point(\n",
    "    r_tensor, scale, zero_point, dtype=torch.int8):\n",
    "    \"\"\"\n",
    "    Performs simple linear quantization given\n",
    "    the scale and zero-point.\n",
    "    \"\"\"\n",
    "\n",
    "    # scale tensor and add the zero point\n",
    "    scaled_and_shifted_tensor = r_tensor / scale + zero_point\n",
    "\n",
    "    # round the tensor \n",
    "    rounded_tensor = torch.round(scaled_and_shifted_tensor)\n",
    "\n",
    "    # we need to clamp to the min/max value of the specified dtype\n",
    "    q_min, q_max = torch.iinfo(dtype).min, torch.iinfo(dtype).max\n",
    "    q_tensor = rounded_tensor.clamp(q_min, q_max).to(dtype)\n",
    "    return q_tensor\n",
    "\n",
    "\n",
    "def linear_dequantization(quantized_tensor, scale, zero_point):\n",
    "    \"\"\"\n",
    "    Linear de-quantization\n",
    "    \"\"\"\n",
    "    dequantized_tensor = scale * (quantized_tensor.float() - zero_point)\n",
    "\n",
    "    return dequantized_tensor\n",
    "\n",
    "def plot_matrix(tensor, ax, title, vmin=0, vmax=1, cmap=None):\n",
    "    \"\"\"\n",
    "    Plot a heatmap of tensors using seaborn\n",
    "    \"\"\"\n",
    "    sns.heatmap(tensor.cpu().numpy(), ax=ax, vmin=vmin, vmax=vmax, cmap=cmap, annot=True, fmt=\".2f\", cbar=False)\n",
    "    ax.set_title(title)\n",
    "    ax.set_yticklabels([])\n",
    "    ax.set_xticklabels([])\n",
    "\n",
    "\n",
    "def plot_quantization_errors(original_tensor, quantized_tensor, dequantized_tensor, dtype = torch.int8, n_bits = 8):\n",
    "    \"\"\"\n",
    "    A method that plots 4 matrices, the original tensor, the quantized tensor\n",
    "    the de-quantized tensor and the error tensor.\n",
    "    \"\"\"\n",
    "    # Get a figure of 4 plots\n",
    "    fig, axes = plt.subplots(1, 4, figsize=(15, 4))\n",
    "\n",
    "    # Plot the first matrix\n",
    "    plot_matrix(original_tensor, axes[0], 'Original Tensor', cmap=ListedColormap(['white']))\n",
    "\n",
    "    # Get the quantization range and plot the quantized tensor\n",
    "    q_min, q_max = torch.iinfo(dtype).min, torch.iinfo(dtype).max\n",
    "    plot_matrix(quantized_tensor, axes[1], f'{n_bits}-bit Linear Quantized Tensor', vmin=q_min, vmax=q_max, cmap='coolwarm')\n",
    "\n",
    "    # Plot the de-quantized tensors\n",
    "    plot_matrix(dequantized_tensor, axes[2], 'Dequantized Tensor', cmap='coolwarm')\n",
    "\n",
    "    # Get the quantization errors\n",
    "    q_error_tensor = abs(original_tensor - dequantized_tensor)\n",
    "    plot_matrix(q_error_tensor, axes[3], 'Quantization Error Tensor', cmap=ListedColormap(['white']))\n",
    "\n",
    "    fig.tight_layout()\n",
    "    plt.show()\n",
    "\n",
    "def get_q_scale_and_zero_point(r_tensor, dtype=torch.int8):\n",
    "    \"\"\"\n",
    "    Get quantization parameters (scale, zero point) \n",
    "    for a floating point tensor\n",
    "    \"\"\"\n",
    "    q_min, q_max = torch.iinfo(dtype).min, torch.iinfo(dtype).max\n",
    "    r_min, r_max = r_tensor.min().item(), r_tensor.max().item()\n",
    "\n",
    "    scale = (r_max-r_min)/(q_max-q_min)\n",
    "\n",
    "    zero_point = q_min-(r_min/scale)\n",
    "\n",
    "    # clip the zero_point to fall in [quantized_min, quantized_max]\n",
    "    if zero_point < q_min or zero_point > q_max:\n",
    "        zero_point = q_min\n",
    "    else:\n",
    "        # round and cast to int\n",
    "        zero_point = int(round(zero_point))\n",
    "    return scale, zero_point\n",
    "\n",
    "def linear_quantization(r_tensor, n_bits, dtype=torch.int8):\n",
    "    \"\"\"\n",
    "    linear quantization\n",
    "    \"\"\"\n",
    "\n",
    "    scale, zero_point = get_q_scale_and_zero_point(r_tensor)\n",
    "    \n",
    "    quantized_tensor = linear_q_with_scale_and_zero_point(\n",
    "        r_tensor, scale=scale, zero_point=zero_point, dtype=dtype)\n",
    "\n",
    "    return quantized_tensor, scale, zero_point\n",
    "\n",
    "\n",
    "############# From the previous lesson(s) of \"Linear Quantization II\"\n",
    "def linear_q_symmetric_per_channel(r_tensor, dim, dtype=torch.int8):\n",
    "    \n",
    "    output_dim = r_tensor.shape[dim]\n",
    "    # store the scales\n",
    "    scale = torch.zeros(output_dim)\n",
    "\n",
    "    for index in range(output_dim):\n",
    "        sub_tensor = r_tensor.select(dim, index)\n",
    "        scale[index] = get_q_scale_symmetric(sub_tensor, dtype=dtype)\n",
    "\n",
    "    # reshape the scale\n",
    "    scale_shape = [1] * r_tensor.dim()\n",
    "    scale_shape[dim] = -1\n",
    "    scale = scale.view(scale_shape)\n",
    "    quantized_tensor = linear_q_with_scale_and_zero_point(\n",
    "        r_tensor, scale=scale, zero_point=0, dtype=dtype)\n",
    "   \n",
    "    return quantized_tensor, scale\n",
    "\n",
    "\n",
    "def get_q_scale_symmetric(tensor, dtype=torch.int8):\n",
    "    r_max = tensor.abs().max().item()\n",
    "    q_max = torch.iinfo(dtype).max\n",
    "\n",
    "    # return the scale\n",
    "    return r_max/q_max\n",
    "###################################"
   ]
  },
  {
   "cell_type": "code",
   "execution_count": 39,
   "metadata": {},
   "outputs": [],
   "source": [
    "## compare the error for the two "
   ]
  },
  {
   "cell_type": "code",
   "execution_count": 40,
   "metadata": {},
   "outputs": [],
   "source": [
    "def linear_q_symmetric_per_group(tensor, group_size,\n",
    "                                 dtype=torch.int8):\n",
    "    \n",
    "    t_shape = tensor.shape\n",
    "    assert t_shape[1] % group_size == 0\n",
    "    assert tensor.dim() == 2\n",
    "    \n",
    "    tensor = tensor.view(-1, group_size)\n",
    "    \n",
    "    quantized_tensor, scale = linear_q_symmetric_per_channel(\n",
    "                                tensor, dim=0, dtype=dtype)\n",
    "    \n",
    "    quantized_tensor = quantized_tensor.view(t_shape)\n",
    "    \n",
    "    return quantized_tensor, scale"
   ]
  },
  {
   "cell_type": "code",
   "execution_count": 41,
   "metadata": {},
   "outputs": [],
   "source": [
    "def linear_dequantization_per_group(quantized_tensor, scale, \n",
    "                                    group_size):\n",
    "    \n",
    "    q_shape = quantized_tensor.shape\n",
    "    quantized_tensor = quantized_tensor.view(-1, group_size)\n",
    "    \n",
    "    dequantized_tensor = linear_dequantization(quantized_tensor, \n",
    "                                               scale, 0)\n",
    "    \n",
    "    dequantized_tensor = dequantized_tensor.view(q_shape)\n",
    "    \n",
    "    return dequantized_tensor"
   ]
  },
  {
   "cell_type": "code",
   "execution_count": 42,
   "metadata": {},
   "outputs": [
    {
     "data": {
      "text/plain": [
       "tensor([[0.9585, 0.3314, 0.5001, 0.3210, 0.7089, 0.4766],\n",
       "        [0.9081, 0.2450, 0.5245, 0.2804, 0.9393, 0.9100],\n",
       "        [0.0133, 0.1854, 0.5191, 0.5546, 0.5556, 0.5216],\n",
       "        [0.1969, 0.8969, 0.6583, 0.8039, 0.6270, 0.2543],\n",
       "        [0.8023, 0.1053, 0.9845, 0.9394, 0.3305, 0.9571],\n",
       "        [0.8021, 0.1984, 0.8703, 0.3725, 0.7622, 0.9905]])"
      ]
     },
     "execution_count": 42,
     "metadata": {},
     "output_type": "execute_result"
    }
   ],
   "source": [
    "random_tensor =torch.rand((6,6))\n",
    "group_size = 3 \n",
    "random_tensor"
   ]
  },
  {
   "cell_type": "code",
   "execution_count": 43,
   "metadata": {},
   "outputs": [],
   "source": [
    "quantized_tensor , scale = linear_q_symmetric_per_group(random_tensor, group_size)\n",
    "dequant_tensor  = linear_dequantization_per_group(quantized_tensor, scale, group_size)"
   ]
  },
  {
   "cell_type": "code",
   "execution_count": 44,
   "metadata": {},
   "outputs": [
    {
     "data": {
      "text/plain": [
       "tensor([[127,  44,  66,  57, 127,  85],\n",
       "        [127,  34,  73,  38, 127, 123],\n",
       "        [  3,  45, 127, 127, 127, 119],\n",
       "        [ 28, 127,  93, 127,  99,  40],\n",
       "        [103,  14, 127, 125,  44, 127],\n",
       "        [117,  29, 127,  48,  98, 127]], dtype=torch.int8)"
      ]
     },
     "execution_count": 44,
     "metadata": {},
     "output_type": "execute_result"
    }
   ],
   "source": [
    "quantized_tensor "
   ]
  },
  {
   "cell_type": "code",
   "execution_count": 45,
   "metadata": {},
   "outputs": [
    {
     "data": {
      "text/plain": [
       "tensor([[0.9585, 0.3321, 0.4981, 0.3182, 0.7089, 0.4745],\n",
       "        [0.9081, 0.2431, 0.5220, 0.2810, 0.9393, 0.9097],\n",
       "        [0.0123, 0.1839, 0.5191, 0.5556, 0.5556, 0.5206],\n",
       "        [0.1977, 0.8969, 0.6568, 0.8039, 0.6267, 0.2532],\n",
       "        [0.7984, 0.1085, 0.9845, 0.9420, 0.3316, 0.9571],\n",
       "        [0.8018, 0.1987, 0.8703, 0.3743, 0.7643, 0.9905]])"
      ]
     },
     "execution_count": 45,
     "metadata": {},
     "output_type": "execute_result"
    }
   ],
   "source": [
    "dequant_tensor"
   ]
  },
  {
   "cell_type": "code",
   "execution_count": 46,
   "metadata": {},
   "outputs": [
    {
     "data": {
      "image/png": "[encoded data removed]",
      "text/plain": [
       "<Figure size 1500x400 with 4 Axes>"
      ]
     },
     "metadata": {},
     "output_type": "display_data"
    }
   ],
   "source": [
    "quantized_tensor, scale = linear_q_symmetric_per_group(\n",
    "    test_tensor, group_size=group_size)\n",
    "\n",
    "dequantized_tensor = linear_dequantization_per_group(\n",
    "    quantized_tensor, scale, group_size=group_size)\n",
    "\n",
    "plot_quantization_errors(\n",
    "    test_tensor, quantized_tensor, dequantized_tensor)"
   ]
  },
  {
   "cell_type": "code",
   "execution_count": 47,
   "metadata": {},
   "outputs": [
    {
     "name": "stdout",
     "output_type": "stream",
     "text": [
      "Quantization Error : 1.7589133977890015\n"
     ]
    }
   ],
   "source": [
    "print(f\"\"\"Quantization Error : \\\n",
    "{quantization_error(test_tensor, dequantized_tensor)}\"\"\")"
   ]
  },
  {
   "cell_type": "code",
   "execution_count": 66,
   "metadata": {},
   "outputs": [],
   "source": [
    "## coding a custom 8bit quantizer :\n",
    "## this quantizer is model agnostic meaning it can be used for any model langauge , vision , or multimodal\n",
    "## we will use the linear quantizer scheme to quantize the weights of the model \n",
    "\n",
    "## the steps for the project : \n",
    "## creating a W8A16LinearLayer class to store 8 bits weights and scales \n",
    "## replacing the torch linear layer with the W8A16LinearLayer class \n",
    "## creating a function to quantize the weights of the model \n",
    "## testing the implemetaion \n",
    "\n",
    "## W8A16LinearLayer class : \n",
    "## * w8_16_forward function -> weight , input , scale , bias (optional)\n",
    "\n",
    "\n",
    "## some randon tensor for testing\n",
    "\n",
    "random_int8 = torch.randint(-128, 127, (32, 16), dtype=torch.int8)\n",
    "random_hs = torch.randn((1, 16), dtype=torch.bfloat16)\n",
    "scales = torch.randn((1, 32), dtype=torch.bfloat16)\n",
    "bias = torch.randn((1, 32), dtype=torch.bfloat16)"
   ]
  },
  {
   "cell_type": "code",
   "execution_count": null,
   "metadata": {},
   "outputs": [
    {
     "name": "stdout",
     "output_type": "stream",
     "text": [
      "[Parameter containing:\n",
      "tensor([[ 0.0452, -0.2850,  0.2928, -0.1139, -0.0410,  0.2362, -0.2939, -0.2566,\n",
      "          0.1713,  0.2796],\n",
      "        [-0.1370, -0.1102,  0.1843, -0.1955,  0.2612, -0.0980, -0.0192, -0.1338,\n",
      "         -0.2708, -0.1222],\n",
      "        [ 0.2873,  0.1881,  0.2249, -0.2059, -0.1164,  0.0050, -0.0307, -0.2393,\n",
      "         -0.2448, -0.2674],\n",
      "        [-0.1245,  0.2401, -0.0790,  0.2627,  0.0135, -0.1685, -0.1371, -0.3098,\n",
      "          0.0167, -0.2767],\n",
      "        [ 0.2001,  0.1852, -0.1193,  0.2139, -0.3126,  0.1457, -0.2942,  0.0532,\n",
      "          0.0291, -0.0789]], requires_grad=True), Parameter containing:\n",
      "tensor([ 0.2001,  0.1408, -0.0970,  0.1433,  0.1441], requires_grad=True)]\n",
      "tensor([[ 1.7564e+00,  7.1541e-01,  3.5405e-01, -1.6998e+00,  2.9643e+00,\n",
      "         -5.1511e-01, -2.4580e-01, -8.9450e-01, -1.0912e+00,  3.9150e-01],\n",
      "        [-1.4919e+00, -3.1828e-01,  1.3454e+00,  5.6489e-01, -3.7040e-01,\n",
      "          5.8199e-01, -2.3028e-02,  2.7163e-01,  2.3809e+00, -1.3139e-03],\n",
      "        [-2.6784e+00, -5.2689e-01, -9.5282e-01,  1.6004e+00, -1.3158e+00,\n",
      "         -3.9214e-01,  2.2702e-01, -2.0198e-01,  9.1026e-01, -8.4354e-01],\n",
      "        [ 1.2020e+00,  1.4291e+00,  1.5296e+00,  7.5364e-01,  1.3392e+00,\n",
      "          1.3696e+00,  7.4863e-01,  4.3696e-01, -2.2336e-01, -8.1840e-03],\n",
      "        [ 6.5678e-01, -1.9570e-01,  2.1241e-01,  6.6417e-01, -5.8573e-01,\n",
      "         -1.7925e-01, -2.4133e-01, -1.3782e+00, -8.9132e-01, -2.3864e-01]])\n",
      "tensor([-0.8011, -1.0394,  0.2010,  0.2721, -2.3183])\n"
     ]
    }
   ],
   "source": [
    "## whats is the diffrent between nn.linear and F.linear ? \n",
    "## look at this example :\n",
    "# Using nn.Linear (recommended)\n",
    "\n",
    "linear_layer = nn.Linear(in_features=10, out_features=5)  # Creates and registers parameters\n",
    "input_tensor = torch.randn(20, 10) #batch size 20, input features 10\n",
    "output = linear_layer(input_tensor) #batch size 20, output features 5\n",
    "\n",
    "print(list(linear_layer.parameters())) #prints the weight and bias of the linear layer\n",
    "\n",
    "# Using F.linear\n",
    "w = torch.randn(5, 10)  # You must create the weight tensor\n",
    "b = torch.randn(5)      # And the bias tensor (optional)\n",
    "output_f = F.linear(input_tensor, w, b)\n",
    "\n",
    "print(w) #prints the weight tensor\n",
    "print(b)   #prints the bias tensor"
   ]
  },
  {
   "cell_type": "code",
   "execution_count": 61,
   "metadata": {},
   "outputs": [
    {
     "data": {
      "text/plain": [
       "tensor([[ 196.0000,  264.0000,  264.0000,  214.0000,  135.0000,  -14.0625,\n",
       "          159.0000, -114.5000, -280.0000,  156.0000, -115.0000,  328.0000,\n",
       "           77.0000,  394.0000,  147.0000, -126.0000,   11.3125, -286.0000,\n",
       "         -217.0000,  149.0000, -147.0000,  314.0000,  137.0000,   -7.6250,\n",
       "          264.0000,   75.0000,  109.5000,  251.0000,  180.0000, -536.0000,\n",
       "           91.5000,  -74.5000]], dtype=torch.bfloat16)"
      ]
     },
     "execution_count": 61,
     "metadata": {},
     "output_type": "execute_result"
    }
   ],
   "source": [
    "# Using nn.Linear (recommended) and cASTING the weights to bfloat16 (same as the hiden states)\n",
    "F.linear(random_hs, random_int8.to(random_hs.dtype))"
   ]
  },
  {
   "cell_type": "code",
   "execution_count": 62,
   "metadata": {},
   "outputs": [
    {
     "data": {
      "text/plain": [
       "tensor([[  -95.0000,   111.0000,   253.0000,   -50.7500,  -220.0000,   -15.6875,\n",
       "           137.0000,   181.0000,    82.5000,  -222.0000,   199.0000,  -102.5000,\n",
       "           -44.7500, -1096.0000,   104.0000,   179.0000,   -13.2500,  -181.0000,\n",
       "            32.5000,   -50.0000,   185.0000,    40.7500,    51.7500,     3.9844,\n",
       "          -194.0000,    57.7500,    73.5000,   -64.5000,   143.0000,   356.0000,\n",
       "           174.0000,    85.0000]], dtype=torch.bfloat16)"
      ]
     },
     "execution_count": 62,
     "metadata": {},
     "output_type": "execute_result"
    }
   ],
   "source": [
    "F.linear(random_hs, random_int8.to(random_hs.dtype)) * scales "
   ]
  },
  {
   "cell_type": "code",
   "execution_count": 68,
   "metadata": {},
   "outputs": [
    {
     "data": {
      "text/plain": [
       "tensor([[-3.9062e-03, -4.6400e+02,  3.0800e+02, -3.6600e+02, -6.0400e+02,\n",
       "         -6.9500e+01, -3.1200e+02, -5.5250e+01, -6.6800e+02, -1.4800e+02,\n",
       "         -5.5200e+02, -4.2812e+00, -2.6125e+01,  7.3600e+02, -4.1250e+01,\n",
       "          3.7600e+02, -1.7125e+01, -1.3500e+02,  2.0700e+02, -9.8500e+01,\n",
       "          2.1625e+01,  3.2600e+02, -1.0480e+03,  1.6250e+01, -1.9000e+01,\n",
       "          2.9500e+01, -8.6400e+02,  8.0500e+01, -9.7200e+02, -2.3400e+02,\n",
       "          3.7200e+02, -6.5200e+02]], dtype=torch.bfloat16)"
      ]
     },
     "execution_count": 68,
     "metadata": {},
     "output_type": "execute_result"
    }
   ],
   "source": [
    "F.linear(random_hs, random_int8.to(random_hs.dtype)) * scales + bias"
   ]
  },
  {
   "cell_type": "code",
   "execution_count": null,
   "metadata": {},
   "outputs": [],
   "source": [
    "## notice that its imporant for the shape of the sacle and bias to be the same as the output of the linear layer so ypou can broadcast the addition correctly\n",
    "\n",
    "## lets combine this into function:\n",
    "def w8_16_forward(weight, input, scale, bias=None):\n",
    "    casted_weight = weight.to(input.dtype) \n",
    "    output = F.linear(input, casted_weight) * scale\n",
    "    if bias is not None:\n",
    "        output += bias\n",
    "    return output\n"
   ]
  },
  {
   "cell_type": "code",
   "execution_count": 73,
   "metadata": {},
   "outputs": [
    {
     "name": "stdout",
     "output_type": "stream",
     "text": [
      "with bias:\n"
     ]
    },
    {
     "data": {
      "text/plain": [
       "tensor([[-3.9062e-03, -4.6400e+02,  3.0800e+02, -3.6600e+02, -6.0400e+02,\n",
       "         -6.9500e+01, -3.1200e+02, -5.5250e+01, -6.6800e+02, -1.4800e+02,\n",
       "         -5.5200e+02, -4.2812e+00, -2.6125e+01,  7.3600e+02, -4.1250e+01,\n",
       "          3.7600e+02, -1.7125e+01, -1.3500e+02,  2.0700e+02, -9.8500e+01,\n",
       "          2.1625e+01,  3.2600e+02, -1.0480e+03,  1.6250e+01, -1.9000e+01,\n",
       "          2.9500e+01, -8.6400e+02,  8.0500e+01, -9.7200e+02, -2.3400e+02,\n",
       "          3.7200e+02, -6.5200e+02]], dtype=torch.bfloat16)"
      ]
     },
     "execution_count": 73,
     "metadata": {},
     "output_type": "execute_result"
    }
   ],
   "source": [
    "print(\"with bias:\")\n",
    "w8_16_forward(random_int8, random_hs, scales, bias)\n"
   ]
  },
  {
   "cell_type": "code",
   "execution_count": 74,
   "metadata": {},
   "outputs": [
    {
     "name": "stdout",
     "output_type": "stream",
     "text": [
      "without bias:\n"
     ]
    },
    {
     "data": {
      "text/plain": [
       "tensor([[-3.0078e-01, -4.6400e+02,  3.0800e+02, -3.6600e+02, -6.0400e+02,\n",
       "         -6.9000e+01, -3.1200e+02, -5.3750e+01, -6.6800e+02, -1.4900e+02,\n",
       "         -5.5200e+02, -3.7344e+00, -2.5500e+01,  7.3600e+02, -4.0750e+01,\n",
       "          3.7800e+02, -1.6625e+01, -1.3500e+02,  2.0600e+02, -9.7500e+01,\n",
       "          2.1750e+01,  3.2400e+02, -1.0480e+03,  1.6250e+01, -1.8750e+01,\n",
       "          2.9500e+01, -8.6400e+02,  8.0000e+01, -9.7200e+02, -2.3300e+02,\n",
       "          3.7200e+02, -6.5200e+02]], dtype=torch.bfloat16)"
      ]
     },
     "execution_count": 74,
     "metadata": {},
     "output_type": "execute_result"
    }
   ],
   "source": [
    "\n",
    "print(\"without bias:\")\n",
    "w8_16_forward(random_int8, random_hs, scales)"
   ]
  },
  {
   "cell_type": "code",
   "execution_count": null,
   "metadata": {},
   "outputs": [],
   "source": [
    "## next lets consider the process \n",
    "\n",
    "class W8A16LinearLayer(nn.Module):\n",
    "    def __init__(self, in_features, out_features, bias=True, dtype=torch.float32):\n",
    "        super().__init__()\n",
    "\n",
    "        ## this method is wrong but it shows the idea\n",
    "        self.int8_weight = nn.Parameter(torch.randint(-128, 127, (out_features, in_features)).to(dtype=torch.int8))\n",
    "        \n",
    "\n",
    "    \n",
    "\n",
    "\n",
    "        "
   ]
  },
  {
   "cell_type": "markdown",
   "metadata": {},
   "source": [
    "lets try ti init the class and see what will happen "
   ]
  },
  {
   "cell_type": "code",
   "execution_count": 79,
   "metadata": {},
   "outputs": [
    {
     "ename": "RuntimeError",
     "evalue": "Only Tensors of floating point and complex dtype can require gradients",
     "output_type": "error",
     "traceback": [
      "\u001b[0;31m---------------------------------------------------------------------------\u001b[0m",
      "\u001b[0;31mRuntimeError\u001b[0m                              Traceback (most recent call last)",
      "Cell \u001b[0;32mIn[79], line 1\u001b[0m\n\u001b[0;32m----> 1\u001b[0m layer \u001b[38;5;241m=\u001b[39m \u001b[43mW8A16LinearLayer\u001b[49m\u001b[43m(\u001b[49m\u001b[38;5;241;43m16\u001b[39;49m\u001b[43m,\u001b[49m\u001b[43m \u001b[49m\u001b[38;5;241;43m32\u001b[39;49m\u001b[43m)\u001b[49m\n",
      "Cell \u001b[0;32mIn[78], line 7\u001b[0m, in \u001b[0;36mW8A16LinearLayer.__init__\u001b[0;34m(self, in_features, out_features, bias, dtype)\u001b[0m\n\u001b[1;32m      4\u001b[0m \u001b[38;5;28;01mdef\u001b[39;00m\u001b[38;5;250m \u001b[39m\u001b[38;5;21m__init__\u001b[39m(\u001b[38;5;28mself\u001b[39m, in_features, out_features, bias\u001b[38;5;241m=\u001b[39m\u001b[38;5;28;01mTrue\u001b[39;00m, dtype\u001b[38;5;241m=\u001b[39mtorch\u001b[38;5;241m.\u001b[39mfloat32):\n\u001b[1;32m      5\u001b[0m     \u001b[38;5;28msuper\u001b[39m()\u001b[38;5;241m.\u001b[39m\u001b[38;5;21m__init__\u001b[39m()\n\u001b[0;32m----> 7\u001b[0m     \u001b[38;5;28mself\u001b[39m\u001b[38;5;241m.\u001b[39mint8_weight \u001b[38;5;241m=\u001b[39m \u001b[43mnn\u001b[49m\u001b[38;5;241;43m.\u001b[39;49m\u001b[43mParameter\u001b[49m\u001b[43m(\u001b[49m\u001b[43mtorch\u001b[49m\u001b[38;5;241;43m.\u001b[39;49m\u001b[43mrandint\u001b[49m\u001b[43m(\u001b[49m\u001b[38;5;241;43m-\u001b[39;49m\u001b[38;5;241;43m128\u001b[39;49m\u001b[43m,\u001b[49m\u001b[43m \u001b[49m\u001b[38;5;241;43m127\u001b[39;49m\u001b[43m,\u001b[49m\u001b[43m \u001b[49m\u001b[43m(\u001b[49m\u001b[43mout_features\u001b[49m\u001b[43m,\u001b[49m\u001b[43m \u001b[49m\u001b[43min_features\u001b[49m\u001b[43m)\u001b[49m\u001b[43m)\u001b[49m\u001b[38;5;241;43m.\u001b[39;49m\u001b[43mto\u001b[49m\u001b[43m(\u001b[49m\u001b[43mdtype\u001b[49m\u001b[38;5;241;43m=\u001b[39;49m\u001b[43mtorch\u001b[49m\u001b[38;5;241;43m.\u001b[39;49m\u001b[43mint8\u001b[49m\u001b[43m)\u001b[49m\u001b[43m)\u001b[49m\n",
      "File \u001b[0;32m~/anaconda3/envs/MyLLM/lib/python3.10/site-packages/torch/nn/parameter.py:46\u001b[0m, in \u001b[0;36mParameter.__new__\u001b[0;34m(cls, data, requires_grad)\u001b[0m\n\u001b[1;32m     42\u001b[0m     data \u001b[38;5;241m=\u001b[39m torch\u001b[38;5;241m.\u001b[39mempty(\u001b[38;5;241m0\u001b[39m)\n\u001b[1;32m     43\u001b[0m \u001b[38;5;28;01mif\u001b[39;00m \u001b[38;5;28mtype\u001b[39m(data) \u001b[38;5;129;01mis\u001b[39;00m torch\u001b[38;5;241m.\u001b[39mTensor \u001b[38;5;129;01mor\u001b[39;00m \u001b[38;5;28mtype\u001b[39m(data) \u001b[38;5;129;01mis\u001b[39;00m Parameter:\n\u001b[1;32m     44\u001b[0m     \u001b[38;5;66;03m# For ease of BC maintenance, keep this path for standard Tensor.\u001b[39;00m\n\u001b[1;32m     45\u001b[0m     \u001b[38;5;66;03m# Eventually (tm), we should change the behavior for standard Tensor to match.\u001b[39;00m\n\u001b[0;32m---> 46\u001b[0m     \u001b[38;5;28;01mreturn\u001b[39;00m \u001b[43mtorch\u001b[49m\u001b[38;5;241;43m.\u001b[39;49m\u001b[43mTensor\u001b[49m\u001b[38;5;241;43m.\u001b[39;49m\u001b[43m_make_subclass\u001b[49m\u001b[43m(\u001b[49m\u001b[38;5;28;43mcls\u001b[39;49m\u001b[43m,\u001b[49m\u001b[43m \u001b[49m\u001b[43mdata\u001b[49m\u001b[43m,\u001b[49m\u001b[43m \u001b[49m\u001b[43mrequires_grad\u001b[49m\u001b[43m)\u001b[49m\n\u001b[1;32m     48\u001b[0m \u001b[38;5;66;03m# Path for custom tensors: set a flag on the instance to indicate parameter-ness.\u001b[39;00m\n\u001b[1;32m     49\u001b[0m t \u001b[38;5;241m=\u001b[39m data\u001b[38;5;241m.\u001b[39mdetach()\u001b[38;5;241m.\u001b[39mrequires_grad_(requires_grad)\n",
      "\u001b[0;31mRuntimeError\u001b[0m: Only Tensors of floating point and complex dtype can require gradients"
     ]
    }
   ],
   "source": [
    "layer = W8A16LinearLayer(16, 32)"
   ]
  },
  {
   "cell_type": "markdown",
   "metadata": {},
   "source": [
    "As you see you get A RuntimeError , that because pytorch nn.Parameter automatically assign the tensor to the computaional graph and try to get the gradient , but there is no gradient for int8 in oytorch yet! \n",
    "\n",
    "so what we can do ? \n",
    "\n",
    "see the following "
   ]
  },
  {
   "cell_type": "code",
   "execution_count": 80,
   "metadata": {},
   "outputs": [],
   "source": [
    "class W8A16LinearLayer(nn.Module):\n",
    "    def __init__(self, in_features, out_features, bias=True, dtype=torch.float32):\n",
    "        super().__init__()\n",
    "\n",
    "        self.register_buffer(\"int8_weight\",\n",
    "                            torch.randint(-128, 127, (out_features, in_features)).to(dtype=torch.int8))"
   ]
  },
  {
   "cell_type": "code",
   "execution_count": 81,
   "metadata": {},
   "outputs": [],
   "source": [
    "layer = W8A16LinearLayer(16, 32)"
   ]
  },
  {
   "cell_type": "markdown",
   "metadata": {},
   "source": [
    "No error ! , the method register_buffer just save a buffer with no gradient\n",
    "\n",
    "lets continue : "
   ]
  },
  {
   "cell_type": "code",
   "execution_count": 88,
   "metadata": {},
   "outputs": [],
   "source": [
    "class W8A16LinearLayer(nn.Module):\n",
    "    def __init__(self, in_features, out_features, bias=True, dtype=torch.float32):\n",
    "        super().__init__()\n",
    "\n",
    "        self.register_buffer(\"int8_weight\",\n",
    "                            torch.randint(-128, 127, (out_features, in_features), dtype=torch.int8))\n",
    "        \n",
    "        self.register_buffer(\"scale\", torch.randn((out_features)\n",
    "                             , dtype=dtype))\n",
    "        \n",
    "        if bias:\n",
    "            self.register_buffer(\"bias\", torch.zeros((1, out_features)\n",
    "                                 , dtype=dtype))\n",
    "        else:\n",
    "            self.bias = None\n"
   ]
  },
  {
   "cell_type": "code",
   "execution_count": null,
   "metadata": {},
   "outputs": [
    {
     "name": "stdout",
     "output_type": "stream",
     "text": [
      "torch.Size([32, 16])\n",
      "torch.Size([32])\n"
     ]
    }
   ],
   "source": [
    "dummy_instance = W8A16LinearLayer(16, 32)\n",
    "print(dummy_instance.int8_weight.shape)\n",
    "print( dummy_instance.scale.shape)"
   ]
  },
  {
   "cell_type": "markdown",
   "metadata": {},
   "source": [
    "All good now we need the forward pass , which we alredy made:"
   ]
  },
  {
   "cell_type": "code",
   "execution_count": 96,
   "metadata": {},
   "outputs": [],
   "source": [
    "class W8A16LinearLayer(nn.Module):\n",
    "    def __init__(self, in_features, out_features, bias=True, dtype=torch.float32):\n",
    "        super().__init__()\n",
    "\n",
    "        self.register_buffer(\"int8_weight\",\n",
    "                            torch.randint(-128, 127, (out_features, in_features), dtype=torch.int8))\n",
    "        \n",
    "        self.register_buffer(\"scale\", torch.randn((out_features)\n",
    "                             , dtype=dtype))\n",
    "        \n",
    "        if bias:\n",
    "            self.register_buffer(\"bias\", torch.zeros((1, out_features)\n",
    "                                 , dtype=dtype))\n",
    "        else:\n",
    "            self.bias = None\n",
    "\n",
    "    def forward(self, x):\n",
    "        return w8_16_forward(self.int8_weight, x, self.scale, self.bias)\n",
    "\n"
   ]
  },
  {
   "cell_type": "code",
   "execution_count": 97,
   "metadata": {},
   "outputs": [
    {
     "data": {
      "text/plain": [
       "torch.float32"
      ]
     },
     "execution_count": 97,
     "metadata": {},
     "output_type": "execute_result"
    }
   ],
   "source": [
    "dummy_instance = W8A16LinearLayer(16, 32)\n",
    "dummy_hs = torch.randn(1, 6, 16)\n",
    "\n",
    "dummy_instance(dummy_hs).dtype"
   ]
  },
  {
   "cell_type": "markdown",
   "metadata": {},
   "source": [
    "Now lets make quantize and dequantize method , plus the workflow to quantize a model should as follow : \n",
    "\n",
    "we detect all the linear layer on the model \n",
    "\n",
    "we loop over thejm and replace the standard nn.linear with the custom made class "
   ]
  },
  {
   "cell_type": "code",
   "execution_count": 114,
   "metadata": {},
   "outputs": [],
   "source": [
    "class W8A16LinearLayer(nn.Module):\n",
    "    def __init__(self, in_features, out_features, bias=True, dtype=torch.float32):\n",
    "        super().__init__()\n",
    "\n",
    "        self.register_buffer(\"int8_weight\",\n",
    "                            torch.randint(-128, 127, (out_features, in_features), dtype=torch.int8))\n",
    "        \n",
    "        self.register_buffer(\"scale\", torch.randn((out_features)\n",
    "                             , dtype=dtype))\n",
    "        \n",
    "        if bias:\n",
    "            self.register_buffer(\"bias\", torch.zeros((1, out_features)\n",
    "                                 , dtype=dtype))\n",
    "        else:\n",
    "            self.bias = None\n",
    "\n",
    "    def quantize(self, weight):\n",
    "        ## cast to fp32 is recommended for stability\n",
    "        w_fp32 = weight.clone().to(torch.float32)\n",
    "\n",
    "        scales = w_fp32.abs().max(dim=-1).values / 127 \n",
    "        scales = scales.to(weight.dtype) \n",
    "\n",
    "        int8_weight = torch.round(w_fp32 / scales.unsqueeze(1)).to(torch.int8)\n",
    "\n",
    "        self.int8_weight = int8_weight\n",
    "        self.scale = scales\n",
    "\n",
    "    def forward(self, input):\n",
    "        return w8_16_forward(self.int8_weight, input, self.scale, self.bias)\n",
    "    \n",
    "\n",
    "\n"
   ]
  },
  {
   "cell_type": "code",
   "execution_count": 115,
   "metadata": {},
   "outputs": [
    {
     "name": "stdout",
     "output_type": "stream",
     "text": [
      "before quantization:0 tensor([[ -57,   12,   31,   80],\n",
      "        [  85,   11,   70,  -29],\n",
      "        [ -17,    6,   60,  -14],\n",
      "        [ -40,   -6, -121, -108],\n",
      "        [ -24,   47,  -68,  -79],\n",
      "        [ -22,  -10,  119,   -2],\n",
      "        [ -23,  -67,  -64, -121],\n",
      "        [-110,  -27,  -18,   31]], dtype=torch.int8)\n"
     ]
    }
   ],
   "source": [
    "dummy_instance = W8A16LinearLayer(4 , 8)\n",
    "\n",
    "print(\"before quantization:0\", dummy_instance.int8_weight)"
   ]
  },
  {
   "cell_type": "code",
   "execution_count": 116,
   "metadata": {},
   "outputs": [
    {
     "name": "stdout",
     "output_type": "stream",
     "text": [
      "after quantization:0 tensor([[ -41,  -46,   39,   -4,  -40,  127,  -49,   41],\n",
      "        [ -10,   22,  127,   18, -102,  -29,   36,  -61],\n",
      "        [  21,   14,  -50,    1,  -72,  -68,   70, -127],\n",
      "        [  32,   -6,  -42,   18,  -61,   52,  127,   57]], dtype=torch.int8)\n"
     ]
    }
   ],
   "source": [
    "random_matrix = torch.randn((4, 8), dtype=torch.bfloat16)\n",
    "\n",
    "dummy_instance.quantize(random_matrix)\n",
    "print(\"after quantization:0\", dummy_instance.int8_weight)"
   ]
  },
  {
   "cell_type": "code",
   "execution_count": 117,
   "metadata": {},
   "outputs": [
    {
     "data": {
      "text/plain": [
       "torch.Size([4])"
      ]
     },
     "execution_count": 117,
     "metadata": {},
     "output_type": "execute_result"
    }
   ],
   "source": [
    "dummy_instance.scale.shape"
   ]
  },
  {
   "cell_type": "code",
   "execution_count": null,
   "metadata": {},
   "outputs": [
    {
     "data": {
      "text/plain": [
       "torch.Size([4, 8])"
      ]
     },
     "execution_count": 118,
     "metadata": {},
     "output_type": "execute_result"
    }
   ],
   "source": [
    "dummy_instance.int8_weight.shape"
   ]
  },
  {
   "cell_type": "markdown",
   "metadata": {},
   "source": [
    "Lets calculate the quantization_error"
   ]
  },
  {
   "cell_type": "code",
   "execution_count": 121,
   "metadata": {},
   "outputs": [
    {
     "data": {
      "text/plain": [
       "tensor(0.0036, dtype=torch.bfloat16)"
      ]
     },
     "execution_count": 121,
     "metadata": {},
     "output_type": "execute_result"
    }
   ],
   "source": [
    "quantization_error = (random_matrix - dummy_instance.int8_weight * dummy_instance.scale.unsqueeze(1)).abs().mean()\n",
    "quantization_error\n"
   ]
  },
  {
   "cell_type": "markdown",
   "metadata": {},
   "source": [
    "Now we ready to make Quantizer (a quantization pipline) which will iterate over the original linear model and replace them with the int8  "
   ]
  },
  {
   "cell_type": "code",
   "execution_count": 124,
   "metadata": {},
   "outputs": [],
   "source": [
    "def replace_module(module,\n",
    "                target_class, \n",
    "                module_name_to_exclude):\n",
    "    \n",
    "    for name, child in module.named_children():\n",
    "\n",
    "        # if the layer is a linear layer and not in the exclusion list\n",
    "        if isinstance(child, nn.Linear) and not any([x == name for x in module_name_to_exclude]):\n",
    "            old_bias = child.bias\n",
    "            new_module = target_class(\n",
    "                child.in_features,\n",
    "                child.out_features,\n",
    "                child.bias is not None,\n",
    "                child.weight.dtype\n",
    "            )\n",
    "            setattr(module, name, new_module)\n",
    "            if old_bias is not None:\n",
    "                getattr(module , name).bias = old_bias \n",
    "        \n",
    "        else : \n",
    "            # recursively call the function\n",
    "            replace_module(child, target_class, module_name_to_exclude)"
   ]
  },
  {
   "cell_type": "code",
   "execution_count": null,
   "metadata": {},
   "outputs": [],
   "source": [
    "# LETS MAKE A DUMMY MODEL (LIKE MINI GPT)\n",
    "class DummyModel(nn.Module):\n",
    "    def __init__(self):\n",
    "        super().__init__()\n",
    "        self.l1 = nn.Embedding(16, 32)\n",
    "        # with bias\n",
    "        self.l2 = nn.Linear(32, 64)\n",
    "        # without bias\n",
    "        self.l3 = nn.Linear(64, 128, bias=False)\n",
    "        self.l4 = nn.Linear(128, 256, bias=False)\n",
    "\n"
   ]
  },
  {
   "cell_type": "code",
   "execution_count": 132,
   "metadata": {},
   "outputs": [
    {
     "name": "stdout",
     "output_type": "stream",
     "text": [
      "quantized model: DummyModel(\n",
      "  (l1): Embedding(16, 32)\n",
      "  (l2): W8A16LinearLayer()\n",
      "  (l3): W8A16LinearLayer()\n",
      "  (l4): Linear(in_features=128, out_features=256, bias=False)\n",
      ")\n",
      "unquantized model: DummyModel(\n",
      "  (l1): Embedding(16, 32)\n",
      "  (l2): Linear(in_features=32, out_features=64, bias=True)\n",
      "  (l3): Linear(in_features=64, out_features=128, bias=False)\n",
      "  (l4): Linear(in_features=128, out_features=256, bias=False)\n",
      ")\n"
     ]
    }
   ],
   "source": [
    "model_1 = DummyModel()\n",
    "model_2 = DummyModel()\n",
    "\n",
    "replace_module(model_1, W8A16LinearLayer, [\"l4\"])\n",
    "\n",
    "print(\"quantized model:\",model_1)\n",
    "\n",
    "print (\"unquantized model:\",model_2)"
   ]
  },
  {
   "cell_type": "code",
   "execution_count": 133,
   "metadata": {},
   "outputs": [],
   "source": [
    "def replace_module_and_quantize(module,\n",
    "                target_class, \n",
    "                module_name_to_exclude):\n",
    "    \n",
    "    for name, child in module.named_children():\n",
    "\n",
    "        # if the layer is a linear layer and not in the exclusion list\n",
    "        if isinstance(child, nn.Linear) and not any([x == name for x in module_name_to_exclude]):\n",
    "            old_bias = child.bias\n",
    "            old_weight = child.weight\n",
    "\n",
    "            new_module = target_class(\n",
    "                child.in_features,\n",
    "                child.out_features,\n",
    "                child.bias is not None,\n",
    "                child.weight.dtype\n",
    "            )\n",
    "            setattr(module, name, new_module)\n",
    "            getattr(module , name).quantize(old_weight)\n",
    "\n",
    "            if old_bias is not None:\n",
    "                getattr(module , name).bias = old_bias \n",
    "        \n",
    "        else : \n",
    "            # recursively call the function\n",
    "            replace_module_and_quantize(child, target_class, module_name_to_exclude)"
   ]
  },
  {
   "cell_type": "code",
   "execution_count": null,
   "metadata": {},
   "outputs": [
    {
     "name": "stdout",
     "output_type": "stream",
     "text": [
      "quantized model: DummyModel(\n",
      "  (l1): Embedding(16, 32)\n",
      "  (l2): W8A16LinearLayer()\n",
      "  (l3): W8A16LinearLayer()\n",
      "  (l4): Linear(in_features=128, out_features=256, bias=False)\n",
      ")\n"
     ]
    }
   ],
   "source": [
    "model_3 = DummyModel()\n",
    "\n",
    "replace_module_and_quantize(model_3, W8A16LinearLayer, [\"l4\"])\n",
    "\n",
    "print(\"quantized model:\",model_3)\n"
   ]
  },
  {
   "cell_type": "markdown",
   "metadata": {},
   "source": [
    "Lets test the implentaion on a real model "
   ]
  },
  {
   "cell_type": "code",
   "execution_count": 137,
   "metadata": {},
   "outputs": [
    {
     "name": "stdout",
     "output_type": "stream",
     "text": [
      "File already exists and is up-to-date: gpt2/124M/checkpoint\n",
      "File already exists and is up-to-date: gpt2/124M/encoder.json\n",
      "File already exists and is up-to-date: gpt2/124M/hparams.json\n",
      "File already exists and is up-to-date: gpt2/124M/model.ckpt.data-00000-of-00001\n",
      "File already exists and is up-to-date: gpt2/124M/model.ckpt.index\n",
      "File already exists and is up-to-date: gpt2/124M/model.ckpt.meta\n",
      "File already exists and is up-to-date: gpt2/124M/vocab.bpe\n"
     ]
    },
    {
     "name": "stderr",
     "output_type": "stream",
     "text": [
      "2025-02-21 21:11:40.713174: W external/local_xla/xla/tsl/framework/cpu_allocator_impl.cc:83] Allocation of 154389504 exceeds 10% of free system memory.\n"
     ]
    },
    {
     "data": {
      "text/plain": [
       "GPTModel(\n",
       "  (tok_emb): Embedding(50257, 768)\n",
       "  (pos_emb): Embedding(1024, 768)\n",
       "  (drop_emb): Dropout(p=0.0, inplace=False)\n",
       "  (trf_blocks): Sequential(\n",
       "    (0): TransformerBlock(\n",
       "      (att): MultiHeadAttention(\n",
       "        (W_query): Linear(in_features=768, out_features=768, bias=True)\n",
       "        (W_key): Linear(in_features=768, out_features=768, bias=True)\n",
       "        (W_value): Linear(in_features=768, out_features=768, bias=True)\n",
       "        (out_proj): Linear(in_features=768, out_features=768, bias=True)\n",
       "        (dropout): Dropout(p=0.0, inplace=False)\n",
       "      )\n",
       "      (ff): FeedForward(\n",
       "        (layers): Sequential(\n",
       "          (0): Linear(in_features=768, out_features=3072, bias=True)\n",
       "          (1): GELU()\n",
       "          (2): Linear(in_features=3072, out_features=768, bias=True)\n",
       "        )\n",
       "      )\n",
       "      (norm1): LayerNorm()\n",
       "      (norm2): LayerNorm()\n",
       "      (drop_resid): Dropout(p=0.0, inplace=False)\n",
       "    )\n",
       "    (1): TransformerBlock(\n",
       "      (att): MultiHeadAttention(\n",
       "        (W_query): Linear(in_features=768, out_features=768, bias=True)\n",
       "        (W_key): Linear(in_features=768, out_features=768, bias=True)\n",
       "        (W_value): Linear(in_features=768, out_features=768, bias=True)\n",
       "        (out_proj): Linear(in_features=768, out_features=768, bias=True)\n",
       "        (dropout): Dropout(p=0.0, inplace=False)\n",
       "      )\n",
       "      (ff): FeedForward(\n",
       "        (layers): Sequential(\n",
       "          (0): Linear(in_features=768, out_features=3072, bias=True)\n",
       "          (1): GELU()\n",
       "          (2): Linear(in_features=3072, out_features=768, bias=True)\n",
       "        )\n",
       "      )\n",
       "      (norm1): LayerNorm()\n",
       "      (norm2): LayerNorm()\n",
       "      (drop_resid): Dropout(p=0.0, inplace=False)\n",
       "    )\n",
       "    (2): TransformerBlock(\n",
       "      (att): MultiHeadAttention(\n",
       "        (W_query): Linear(in_features=768, out_features=768, bias=True)\n",
       "        (W_key): Linear(in_features=768, out_features=768, bias=True)\n",
       "        (W_value): Linear(in_features=768, out_features=768, bias=True)\n",
       "        (out_proj): Linear(in_features=768, out_features=768, bias=True)\n",
       "        (dropout): Dropout(p=0.0, inplace=False)\n",
       "      )\n",
       "      (ff): FeedForward(\n",
       "        (layers): Sequential(\n",
       "          (0): Linear(in_features=768, out_features=3072, bias=True)\n",
       "          (1): GELU()\n",
       "          (2): Linear(in_features=3072, out_features=768, bias=True)\n",
       "        )\n",
       "      )\n",
       "      (norm1): LayerNorm()\n",
       "      (norm2): LayerNorm()\n",
       "      (drop_resid): Dropout(p=0.0, inplace=False)\n",
       "    )\n",
       "    (3): TransformerBlock(\n",
       "      (att): MultiHeadAttention(\n",
       "        (W_query): Linear(in_features=768, out_features=768, bias=True)\n",
       "        (W_key): Linear(in_features=768, out_features=768, bias=True)\n",
       "        (W_value): Linear(in_features=768, out_features=768, bias=True)\n",
       "        (out_proj): Linear(in_features=768, out_features=768, bias=True)\n",
       "        (dropout): Dropout(p=0.0, inplace=False)\n",
       "      )\n",
       "      (ff): FeedForward(\n",
       "        (layers): Sequential(\n",
       "          (0): Linear(in_features=768, out_features=3072, bias=True)\n",
       "          (1): GELU()\n",
       "          (2): Linear(in_features=3072, out_features=768, bias=True)\n",
       "        )\n",
       "      )\n",
       "      (norm1): LayerNorm()\n",
       "      (norm2): LayerNorm()\n",
       "      (drop_resid): Dropout(p=0.0, inplace=False)\n",
       "    )\n",
       "    (4): TransformerBlock(\n",
       "      (att): MultiHeadAttention(\n",
       "        (W_query): Linear(in_features=768, out_features=768, bias=True)\n",
       "        (W_key): Linear(in_features=768, out_features=768, bias=True)\n",
       "        (W_value): Linear(in_features=768, out_features=768, bias=True)\n",
       "        (out_proj): Linear(in_features=768, out_features=768, bias=True)\n",
       "        (dropout): Dropout(p=0.0, inplace=False)\n",
       "      )\n",
       "      (ff): FeedForward(\n",
       "        (layers): Sequential(\n",
       "          (0): Linear(in_features=768, out_features=3072, bias=True)\n",
       "          (1): GELU()\n",
       "          (2): Linear(in_features=3072, out_features=768, bias=True)\n",
       "        )\n",
       "      )\n",
       "      (norm1): LayerNorm()\n",
       "      (norm2): LayerNorm()\n",
       "      (drop_resid): Dropout(p=0.0, inplace=False)\n",
       "    )\n",
       "    (5): TransformerBlock(\n",
       "      (att): MultiHeadAttention(\n",
       "        (W_query): Linear(in_features=768, out_features=768, bias=True)\n",
       "        (W_key): Linear(in_features=768, out_features=768, bias=True)\n",
       "        (W_value): Linear(in_features=768, out_features=768, bias=True)\n",
       "        (out_proj): Linear(in_features=768, out_features=768, bias=True)\n",
       "        (dropout): Dropout(p=0.0, inplace=False)\n",
       "      )\n",
       "      (ff): FeedForward(\n",
       "        (layers): Sequential(\n",
       "          (0): Linear(in_features=768, out_features=3072, bias=True)\n",
       "          (1): GELU()\n",
       "          (2): Linear(in_features=3072, out_features=768, bias=True)\n",
       "        )\n",
       "      )\n",
       "      (norm1): LayerNorm()\n",
       "      (norm2): LayerNorm()\n",
       "      (drop_resid): Dropout(p=0.0, inplace=False)\n",
       "    )\n",
       "    (6): TransformerBlock(\n",
       "      (att): MultiHeadAttention(\n",
       "        (W_query): Linear(in_features=768, out_features=768, bias=True)\n",
       "        (W_key): Linear(in_features=768, out_features=768, bias=True)\n",
       "        (W_value): Linear(in_features=768, out_features=768, bias=True)\n",
       "        (out_proj): Linear(in_features=768, out_features=768, bias=True)\n",
       "        (dropout): Dropout(p=0.0, inplace=False)\n",
       "      )\n",
       "      (ff): FeedForward(\n",
       "        (layers): Sequential(\n",
       "          (0): Linear(in_features=768, out_features=3072, bias=True)\n",
       "          (1): GELU()\n",
       "          (2): Linear(in_features=3072, out_features=768, bias=True)\n",
       "        )\n",
       "      )\n",
       "      (norm1): LayerNorm()\n",
       "      (norm2): LayerNorm()\n",
       "      (drop_resid): Dropout(p=0.0, inplace=False)\n",
       "    )\n",
       "    (7): TransformerBlock(\n",
       "      (att): MultiHeadAttention(\n",
       "        (W_query): Linear(in_features=768, out_features=768, bias=True)\n",
       "        (W_key): Linear(in_features=768, out_features=768, bias=True)\n",
       "        (W_value): Linear(in_features=768, out_features=768, bias=True)\n",
       "        (out_proj): Linear(in_features=768, out_features=768, bias=True)\n",
       "        (dropout): Dropout(p=0.0, inplace=False)\n",
       "      )\n",
       "      (ff): FeedForward(\n",
       "        (layers): Sequential(\n",
       "          (0): Linear(in_features=768, out_features=3072, bias=True)\n",
       "          (1): GELU()\n",
       "          (2): Linear(in_features=3072, out_features=768, bias=True)\n",
       "        )\n",
       "      )\n",
       "      (norm1): LayerNorm()\n",
       "      (norm2): LayerNorm()\n",
       "      (drop_resid): Dropout(p=0.0, inplace=False)\n",
       "    )\n",
       "    (8): TransformerBlock(\n",
       "      (att): MultiHeadAttention(\n",
       "        (W_query): Linear(in_features=768, out_features=768, bias=True)\n",
       "        (W_key): Linear(in_features=768, out_features=768, bias=True)\n",
       "        (W_value): Linear(in_features=768, out_features=768, bias=True)\n",
       "        (out_proj): Linear(in_features=768, out_features=768, bias=True)\n",
       "        (dropout): Dropout(p=0.0, inplace=False)\n",
       "      )\n",
       "      (ff): FeedForward(\n",
       "        (layers): Sequential(\n",
       "          (0): Linear(in_features=768, out_features=3072, bias=True)\n",
       "          (1): GELU()\n",
       "          (2): Linear(in_features=3072, out_features=768, bias=True)\n",
       "        )\n",
       "      )\n",
       "      (norm1): LayerNorm()\n",
       "      (norm2): LayerNorm()\n",
       "      (drop_resid): Dropout(p=0.0, inplace=False)\n",
       "    )\n",
       "    (9): TransformerBlock(\n",
       "      (att): MultiHeadAttention(\n",
       "        (W_query): Linear(in_features=768, out_features=768, bias=True)\n",
       "        (W_key): Linear(in_features=768, out_features=768, bias=True)\n",
       "        (W_value): Linear(in_features=768, out_features=768, bias=True)\n",
       "        (out_proj): Linear(in_features=768, out_features=768, bias=True)\n",
       "        (dropout): Dropout(p=0.0, inplace=False)\n",
       "      )\n",
       "      (ff): FeedForward(\n",
       "        (layers): Sequential(\n",
       "          (0): Linear(in_features=768, out_features=3072, bias=True)\n",
       "          (1): GELU()\n",
       "          (2): Linear(in_features=3072, out_features=768, bias=True)\n",
       "        )\n",
       "      )\n",
       "      (norm1): LayerNorm()\n",
       "      (norm2): LayerNorm()\n",
       "      (drop_resid): Dropout(p=0.0, inplace=False)\n",
       "    )\n",
       "    (10): TransformerBlock(\n",
       "      (att): MultiHeadAttention(\n",
       "        (W_query): Linear(in_features=768, out_features=768, bias=True)\n",
       "        (W_key): Linear(in_features=768, out_features=768, bias=True)\n",
       "        (W_value): Linear(in_features=768, out_features=768, bias=True)\n",
       "        (out_proj): Linear(in_features=768, out_features=768, bias=True)\n",
       "        (dropout): Dropout(p=0.0, inplace=False)\n",
       "      )\n",
       "      (ff): FeedForward(\n",
       "        (layers): Sequential(\n",
       "          (0): Linear(in_features=768, out_features=3072, bias=True)\n",
       "          (1): GELU()\n",
       "          (2): Linear(in_features=3072, out_features=768, bias=True)\n",
       "        )\n",
       "      )\n",
       "      (norm1): LayerNorm()\n",
       "      (norm2): LayerNorm()\n",
       "      (drop_resid): Dropout(p=0.0, inplace=False)\n",
       "    )\n",
       "    (11): TransformerBlock(\n",
       "      (att): MultiHeadAttention(\n",
       "        (W_query): Linear(in_features=768, out_features=768, bias=True)\n",
       "        (W_key): Linear(in_features=768, out_features=768, bias=True)\n",
       "        (W_value): Linear(in_features=768, out_features=768, bias=True)\n",
       "        (out_proj): Linear(in_features=768, out_features=768, bias=True)\n",
       "        (dropout): Dropout(p=0.0, inplace=False)\n",
       "      )\n",
       "      (ff): FeedForward(\n",
       "        (layers): Sequential(\n",
       "          (0): Linear(in_features=768, out_features=3072, bias=True)\n",
       "          (1): GELU()\n",
       "          (2): Linear(in_features=3072, out_features=768, bias=True)\n",
       "        )\n",
       "      )\n",
       "      (norm1): LayerNorm()\n",
       "      (norm2): LayerNorm()\n",
       "      (drop_resid): Dropout(p=0.0, inplace=False)\n",
       "    )\n",
       "  )\n",
       "  (final_norm): LayerNorm()\n",
       "  (out_head): Linear(in_features=768, out_features=50257, bias=False)\n",
       ")"
      ]
     },
     "execution_count": 137,
     "metadata": {},
     "output_type": "execute_result"
    }
   ],
   "source": [
    "from UTILS.load_weights import download_and_load_gpt2 , load_weights_into_gpt\n",
    "from UTILS.model import GPTModel\n",
    "\n",
    "## Choose the model to use\n",
    "CHOOSE_MODEL = \"gpt2-small (124M)\"\n",
    "\n",
    "## Base configuration settings for the model\n",
    "BASE_CONFIG = {\n",
    "    \"vocab_size\": 50257,     # Size of the vocabulary used by the model\n",
    "    \"context_length\": 1024,  # Maximum context length the model can handle\n",
    "    \"drop_rate\": 0.0,        # Dropout rate for regularization\n",
    "    \"qkv_bias\": True         # Whether to use bias terms in query, key, and value projections\n",
    "}\n",
    "\n",
    "## Dictionary containing configurations for different GPT-2 model sizes\n",
    "model_configs = {\n",
    "    \"gpt2-small (124M)\": {\"emb_dim\": 768, \"n_layers\": 12, \"n_heads\": 12},      # Config for small model\n",
    "    \"gpt2-medium (355M)\": {\"emb_dim\": 1024, \"n_layers\": 24, \"n_heads\": 16},    # Config for medium model\n",
    "    \"gpt2-large (774M)\": {\"emb_dim\": 1280, \"n_layers\": 36, \"n_heads\": 20},     # Config for large model\n",
    "    \"gpt2-xl (1558M)\": {\"emb_dim\": 1600, \"n_layers\": 48, \"n_heads\": 25},       # Config for extra-large model\n",
    "}\n",
    "\n",
    "## Update the BASE_CONFIG with parameters specific to the chosen model\n",
    "BASE_CONFIG.update(model_configs[CHOOSE_MODEL])\n",
    "\n",
    "model_size = CHOOSE_MODEL.split(\" \")[-1].lstrip(\"(\").rstrip(\")\")\n",
    "settings, params = download_and_load_gpt2(model_size=model_size, models_dir=\"gpt2\")\n",
    "\n",
    "model = GPTModel(BASE_CONFIG)\n",
    "load_weights_into_gpt(model, params)\n",
    "model.eval()"
   ]
  },
  {
   "cell_type": "code",
   "execution_count": 138,
   "metadata": {},
   "outputs": [
    {
     "name": "stdout",
     "output_type": "stream",
     "text": [
      "quantized model: GPTModel(\n",
      "  (tok_emb): Embedding(50257, 768)\n",
      "  (pos_emb): Embedding(1024, 768)\n",
      "  (drop_emb): Dropout(p=0.0, inplace=False)\n",
      "  (trf_blocks): Sequential(\n",
      "    (0): TransformerBlock(\n",
      "      (att): MultiHeadAttention(\n",
      "        (W_query): W8A16LinearLayer()\n",
      "        (W_key): W8A16LinearLayer()\n",
      "        (W_value): W8A16LinearLayer()\n",
      "        (out_proj): W8A16LinearLayer()\n",
      "        (dropout): Dropout(p=0.0, inplace=False)\n",
      "      )\n",
      "      (ff): FeedForward(\n",
      "        (layers): Sequential(\n",
      "          (0): W8A16LinearLayer()\n",
      "          (1): GELU()\n",
      "          (2): W8A16LinearLayer()\n",
      "        )\n",
      "      )\n",
      "      (norm1): LayerNorm()\n",
      "      (norm2): LayerNorm()\n",
      "      (drop_resid): Dropout(p=0.0, inplace=False)\n",
      "    )\n",
      "    (1): TransformerBlock(\n",
      "      (att): MultiHeadAttention(\n",
      "        (W_query): W8A16LinearLayer()\n",
      "        (W_key): W8A16LinearLayer()\n",
      "        (W_value): W8A16LinearLayer()\n",
      "        (out_proj): W8A16LinearLayer()\n",
      "        (dropout): Dropout(p=0.0, inplace=False)\n",
      "      )\n",
      "      (ff): FeedForward(\n",
      "        (layers): Sequential(\n",
      "          (0): W8A16LinearLayer()\n",
      "          (1): GELU()\n",
      "          (2): W8A16LinearLayer()\n",
      "        )\n",
      "      )\n",
      "      (norm1): LayerNorm()\n",
      "      (norm2): LayerNorm()\n",
      "      (drop_resid): Dropout(p=0.0, inplace=False)\n",
      "    )\n",
      "    (2): TransformerBlock(\n",
      "      (att): MultiHeadAttention(\n",
      "        (W_query): W8A16LinearLayer()\n",
      "        (W_key): W8A16LinearLayer()\n",
      "        (W_value): W8A16LinearLayer()\n",
      "        (out_proj): W8A16LinearLayer()\n",
      "        (dropout): Dropout(p=0.0, inplace=False)\n",
      "      )\n",
      "      (ff): FeedForward(\n",
      "        (layers): Sequential(\n",
      "          (0): W8A16LinearLayer()\n",
      "          (1): GELU()\n",
      "          (2): W8A16LinearLayer()\n",
      "        )\n",
      "      )\n",
      "      (norm1): LayerNorm()\n",
      "      (norm2): LayerNorm()\n",
      "      (drop_resid): Dropout(p=0.0, inplace=False)\n",
      "    )\n",
      "    (3): TransformerBlock(\n",
      "      (att): MultiHeadAttention(\n",
      "        (W_query): W8A16LinearLayer()\n",
      "        (W_key): W8A16LinearLayer()\n",
      "        (W_value): W8A16LinearLayer()\n",
      "        (out_proj): W8A16LinearLayer()\n",
      "        (dropout): Dropout(p=0.0, inplace=False)\n",
      "      )\n",
      "      (ff): FeedForward(\n",
      "        (layers): Sequential(\n",
      "          (0): W8A16LinearLayer()\n",
      "          (1): GELU()\n",
      "          (2): W8A16LinearLayer()\n",
      "        )\n",
      "      )\n",
      "      (norm1): LayerNorm()\n",
      "      (norm2): LayerNorm()\n",
      "      (drop_resid): Dropout(p=0.0, inplace=False)\n",
      "    )\n",
      "    (4): TransformerBlock(\n",
      "      (att): MultiHeadAttention(\n",
      "        (W_query): W8A16LinearLayer()\n",
      "        (W_key): W8A16LinearLayer()\n",
      "        (W_value): W8A16LinearLayer()\n",
      "        (out_proj): W8A16LinearLayer()\n",
      "        (dropout): Dropout(p=0.0, inplace=False)\n",
      "      )\n",
      "      (ff): FeedForward(\n",
      "        (layers): Sequential(\n",
      "          (0): W8A16LinearLayer()\n",
      "          (1): GELU()\n",
      "          (2): W8A16LinearLayer()\n",
      "        )\n",
      "      )\n",
      "      (norm1): LayerNorm()\n",
      "      (norm2): LayerNorm()\n",
      "      (drop_resid): Dropout(p=0.0, inplace=False)\n",
      "    )\n",
      "    (5): TransformerBlock(\n",
      "      (att): MultiHeadAttention(\n",
      "        (W_query): W8A16LinearLayer()\n",
      "        (W_key): W8A16LinearLayer()\n",
      "        (W_value): W8A16LinearLayer()\n",
      "        (out_proj): W8A16LinearLayer()\n",
      "        (dropout): Dropout(p=0.0, inplace=False)\n",
      "      )\n",
      "      (ff): FeedForward(\n",
      "        (layers): Sequential(\n",
      "          (0): W8A16LinearLayer()\n",
      "          (1): GELU()\n",
      "          (2): W8A16LinearLayer()\n",
      "        )\n",
      "      )\n",
      "      (norm1): LayerNorm()\n",
      "      (norm2): LayerNorm()\n",
      "      (drop_resid): Dropout(p=0.0, inplace=False)\n",
      "    )\n",
      "    (6): TransformerBlock(\n",
      "      (att): MultiHeadAttention(\n",
      "        (W_query): W8A16LinearLayer()\n",
      "        (W_key): W8A16LinearLayer()\n",
      "        (W_value): W8A16LinearLayer()\n",
      "        (out_proj): W8A16LinearLayer()\n",
      "        (dropout): Dropout(p=0.0, inplace=False)\n",
      "      )\n",
      "      (ff): FeedForward(\n",
      "        (layers): Sequential(\n",
      "          (0): W8A16LinearLayer()\n",
      "          (1): GELU()\n",
      "          (2): W8A16LinearLayer()\n",
      "        )\n",
      "      )\n",
      "      (norm1): LayerNorm()\n",
      "      (norm2): LayerNorm()\n",
      "      (drop_resid): Dropout(p=0.0, inplace=False)\n",
      "    )\n",
      "    (7): TransformerBlock(\n",
      "      (att): MultiHeadAttention(\n",
      "        (W_query): W8A16LinearLayer()\n",
      "        (W_key): W8A16LinearLayer()\n",
      "        (W_value): W8A16LinearLayer()\n",
      "        (out_proj): W8A16LinearLayer()\n",
      "        (dropout): Dropout(p=0.0, inplace=False)\n",
      "      )\n",
      "      (ff): FeedForward(\n",
      "        (layers): Sequential(\n",
      "          (0): W8A16LinearLayer()\n",
      "          (1): GELU()\n",
      "          (2): W8A16LinearLayer()\n",
      "        )\n",
      "      )\n",
      "      (norm1): LayerNorm()\n",
      "      (norm2): LayerNorm()\n",
      "      (drop_resid): Dropout(p=0.0, inplace=False)\n",
      "    )\n",
      "    (8): TransformerBlock(\n",
      "      (att): MultiHeadAttention(\n",
      "        (W_query): W8A16LinearLayer()\n",
      "        (W_key): W8A16LinearLayer()\n",
      "        (W_value): W8A16LinearLayer()\n",
      "        (out_proj): W8A16LinearLayer()\n",
      "        (dropout): Dropout(p=0.0, inplace=False)\n",
      "      )\n",
      "      (ff): FeedForward(\n",
      "        (layers): Sequential(\n",
      "          (0): W8A16LinearLayer()\n",
      "          (1): GELU()\n",
      "          (2): W8A16LinearLayer()\n",
      "        )\n",
      "      )\n",
      "      (norm1): LayerNorm()\n",
      "      (norm2): LayerNorm()\n",
      "      (drop_resid): Dropout(p=0.0, inplace=False)\n",
      "    )\n",
      "    (9): TransformerBlock(\n",
      "      (att): MultiHeadAttention(\n",
      "        (W_query): W8A16LinearLayer()\n",
      "        (W_key): W8A16LinearLayer()\n",
      "        (W_value): W8A16LinearLayer()\n",
      "        (out_proj): W8A16LinearLayer()\n",
      "        (dropout): Dropout(p=0.0, inplace=False)\n",
      "      )\n",
      "      (ff): FeedForward(\n",
      "        (layers): Sequential(\n",
      "          (0): W8A16LinearLayer()\n",
      "          (1): GELU()\n",
      "          (2): W8A16LinearLayer()\n",
      "        )\n",
      "      )\n",
      "      (norm1): LayerNorm()\n",
      "      (norm2): LayerNorm()\n",
      "      (drop_resid): Dropout(p=0.0, inplace=False)\n",
      "    )\n",
      "    (10): TransformerBlock(\n",
      "      (att): MultiHeadAttention(\n",
      "        (W_query): W8A16LinearLayer()\n",
      "        (W_key): W8A16LinearLayer()\n",
      "        (W_value): W8A16LinearLayer()\n",
      "        (out_proj): W8A16LinearLayer()\n",
      "        (dropout): Dropout(p=0.0, inplace=False)\n",
      "      )\n",
      "      (ff): FeedForward(\n",
      "        (layers): Sequential(\n",
      "          (0): W8A16LinearLayer()\n",
      "          (1): GELU()\n",
      "          (2): W8A16LinearLayer()\n",
      "        )\n",
      "      )\n",
      "      (norm1): LayerNorm()\n",
      "      (norm2): LayerNorm()\n",
      "      (drop_resid): Dropout(p=0.0, inplace=False)\n",
      "    )\n",
      "    (11): TransformerBlock(\n",
      "      (att): MultiHeadAttention(\n",
      "        (W_query): W8A16LinearLayer()\n",
      "        (W_key): W8A16LinearLayer()\n",
      "        (W_value): W8A16LinearLayer()\n",
      "        (out_proj): W8A16LinearLayer()\n",
      "        (dropout): Dropout(p=0.0, inplace=False)\n",
      "      )\n",
      "      (ff): FeedForward(\n",
      "        (layers): Sequential(\n",
      "          (0): W8A16LinearLayer()\n",
      "          (1): GELU()\n",
      "          (2): W8A16LinearLayer()\n",
      "        )\n",
      "      )\n",
      "      (norm1): LayerNorm()\n",
      "      (norm2): LayerNorm()\n",
      "      (drop_resid): Dropout(p=0.0, inplace=False)\n",
      "    )\n",
      "  )\n",
      "  (final_norm): LayerNorm()\n",
      "  (out_head): Linear(in_features=768, out_features=50257, bias=False)\n",
      ")\n"
     ]
    }
   ],
   "source": [
    "replace_module_and_quantize(model, W8A16LinearLayer, [\"out_head\"]) \n",
    "\n",
    "print(\"quantized model:\",model)"
   ]
  },
  {
   "cell_type": "code",
   "execution_count": null,
   "metadata": {},
   "outputs": [],
   "source": [
    "import tiktoken\n",
    "\n",
    "def top_p_logits(logits, p=0.5):\n",
    "    probs = F.softmax(logits, dim=-1)\n",
    "    sorted_probs, sorted_indices = torch.sort(probs, descending=True)\n",
    "    cumulative_probs = torch.cumsum(sorted_probs, dim=-1)\n",
    "    sorted_probs[cumulative_probs > p] = 0\n",
    "    filtered_logits = torch.zeros_like(logits).to(logits.device)  # Move to same device\n",
    "    filtered_logits.scatter_(dim=-1, index=sorted_indices, src=sorted_probs)\n",
    "    return filtered_logits\n",
    "\n",
    "def generate(model, prompt, max_new_tokens, context_size, tokenizer, temperature=0.0, top_k=None, top_p=None, eos=None):\n",
    "    # Detect device\n",
    "    device = next(model.parameters()).device  # Get model's device\n",
    "\n",
    "    # Encode and move input to the correct device\n",
    "    idx = torch.tensor(tokenizer.encode(prompt), dtype=torch.long).unsqueeze(0).to(device)\n",
    "\n",
    "    idx_gen = idx.clone()  # Start with the prompt indices\n",
    "\n",
    "    for _ in range(max_new_tokens):\n",
    "        idx_cond = idx_gen[:, -context_size:]\n",
    "\n",
    "        with torch.no_grad():\n",
    "            logits = model(idx_cond)  # Forward pass\n",
    "            logits = logits[:, -1, :]  # Take the last token's logits\n",
    "            \n",
    "            # Apply top-k sampling\n",
    "            if top_k is not None:\n",
    "                top_k_values, _ = torch.topk(logits, k=top_k)\n",
    "                min_value = top_k_values[:, -1].unsqueeze(1)  \n",
    "                logits = torch.where(logits < min_value, torch.tensor(float('-inf')).to(device), logits)\n",
    "\n",
    "            # Apply top-p sampling\n",
    "            if top_p is not None:\n",
    "                logits = top_p_logits(logits, p=top_p)  \n",
    "\n",
    "            # Apply temperature\n",
    "            if temperature > 0.0:\n",
    "                logits = logits / temperature\n",
    "                probs = F.softmax(logits, dim=-1)  # Convert to probabilities\n",
    "                idx_next = torch.multinomial(probs, num_samples=1)  # Sample token\n",
    "            else: \n",
    "                idx_next = torch.argmax(logits, dim=-1, keepdim=True)  # Take max logit\n",
    "\n",
    "            # EOS handling\n",
    "            if eos is not None and torch.equal(idx_next, torch.tensor(eos).to(device)):\n",
    "                break\n",
    "            \n",
    "            # Append new token\n",
    "            idx_gen = torch.cat((idx_gen, idx_next), dim=1)\n",
    "\n",
    "    return tokenizer.decode(idx_gen.squeeze(0).tolist())  # Convert tokens back to text\n"
   ]
  },
  {
   "cell_type": "code",
   "execution_count": null,
   "metadata": {},
   "outputs": [],
   "source": []
  }
 ],
 "metadata": {
  "kernelspec": {
   "display_name": "MyLLM",
   "language": "python",
   "name": "python3"
  },
  "language_info": {
   "codemirror_mode": {
    "name": "ipython",
    "version": 3
   },
   "file_extension": ".py",
   "mimetype": "text/x-python",
   "name": "python",
   "nbconvert_exporter": "python",
   "pygments_lexer": "ipython3",
   "version": "3.10.16"
  }
 },
 "nbformat": 4,
 "nbformat_minor": 2
}
