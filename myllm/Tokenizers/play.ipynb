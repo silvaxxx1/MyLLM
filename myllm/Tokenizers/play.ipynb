{
 "cells": [
  {
   "cell_type": "code",
   "execution_count": 6,
   "id": "d9ea564a",
   "metadata": {},
   "outputs": [],
   "source": [
    "from typing import List \n",
    "\n",
    "def get_stats(tokens): \n",
    "    count = {} \n",
    "    for p in zip (tokens , tokens[1:]):\n",
    "        count[p] = count.get(p , 0) + 1 \n",
    "    return count \n",
    "    "
   ]
  },
  {
   "cell_type": "code",
   "execution_count": 7,
   "id": "06b81569",
   "metadata": {},
   "outputs": [
    {
     "data": {
      "text/plain": [
       "{(1, 2): 2,\n",
       " (2, 3): 4,\n",
       " (3, 4): 3,\n",
       " (4, 5): 2,\n",
       " (5, 2): 1,\n",
       " (4, 2): 1,\n",
       " (3, 6): 1,\n",
       " (6, 7): 2,\n",
       " (7, 8): 2,\n",
       " (8, 7): 1,\n",
       " (8, 9): 1,\n",
       " (9, 10): 2,\n",
       " (10, 9): 1,\n",
       " (10, 1): 1,\n",
       " (5, 5): 3,\n",
       " (5, 6): 1,\n",
       " (6, 6): 1}"
      ]
     },
     "execution_count": 7,
     "metadata": {},
     "output_type": "execute_result"
    }
   ],
   "source": [
    "# Bigger, more robust test list\n",
    "tokens = [\n",
    "    1, 2, 3, 4, 5, \n",
    "    2, 3, 4, 2, 3, \n",
    "    6, 7, 8, 7, 8, \n",
    "    9, 10, 9, 10, \n",
    "    1, 2, 3, 4, 5, \n",
    "    5, 5, 5, 6, 6, 7\n",
    "]\n",
    "\n",
    "\n",
    "get_stats(tokens) \n",
    "\n"
   ]
  },
  {
   "cell_type": "code",
   "execution_count": null,
   "id": "a26019ef",
   "metadata": {},
   "outputs": [],
   "source": []
  }
 ],
 "metadata": {
  "kernelspec": {
   "display_name": "MyLLM",
   "language": "python",
   "name": "python3"
  },
  "language_info": {
   "codemirror_mode": {
    "name": "ipython",
    "version": 3
   },
   "file_extension": ".py",
   "mimetype": "text/x-python",
   "name": "python",
   "nbconvert_exporter": "python",
   "pygments_lexer": "ipython3",
   "version": "3.12.3"
  }
 },
 "nbformat": 4,
 "nbformat_minor": 5
}
